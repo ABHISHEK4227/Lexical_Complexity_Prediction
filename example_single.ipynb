{
  "nbformat": 4,
  "nbformat_minor": 0,
  "metadata": {
    "colab": {
      "name": "example_single.ipynb",
      "provenance": [],
      "collapsed_sections": []
    },
    "kernelspec": {
      "name": "python3",
      "display_name": "Python 3"
    },
    "language_info": {
      "name": "python"
    },
    "accelerator": "GPU"
  },
  "cells": [
    {
      "cell_type": "markdown",
      "metadata": {
        "id": "9J0R197e9RCB"
      },
      "source": [
        "# Download Packages Required"
      ]
    },
    {
      "cell_type": "code",
      "metadata": {
        "id": "cJ1bPvhv870N"
      },
      "source": [
        " !pip install transformers\n",
        " !pip install bert-for-tf2\n",
        " !pip install textstat"
      ],
      "execution_count": null,
      "outputs": []
    },
    {
      "cell_type": "markdown",
      "metadata": {
        "id": "lj3J_Z019Tot"
      },
      "source": [
        "## Download Glove "
      ]
    },
    {
      "cell_type": "code",
      "metadata": {
        "id": "F2FOcXk_9PJB"
      },
      "source": [
        " !wget http://nlp.stanford.edu/data/glove.42B.300d.zip\n",
        " !unzip glove*.zip\n"
      ],
      "execution_count": null,
      "outputs": []
    },
    {
      "cell_type": "markdown",
      "metadata": {
        "id": "HX6UCYkW7mBd"
      },
      "source": [
        "# Import Libraries"
      ]
    },
    {
      "cell_type": "code",
      "metadata": {
        "id": "z2qJ8wEa9eG1"
      },
      "source": [
        "from dataset import Dataset\n",
        "from features import Features_extracter as fe\n",
        "from model import LCP\n",
        "from scorer import scores\n",
        "from scorer import saveOutput\n",
        "\n",
        "from sklearn.model_selection import train_test_split"
      ],
      "execution_count": null,
      "outputs": []
    },
    {
      "cell_type": "markdown",
      "metadata": {
        "id": "s5oKK7Zk-Dt8"
      },
      "source": [
        "# For Single Word\n",
        "Initialize the single word dataset"
      ]
    },
    {
      "cell_type": "code",
      "metadata": {
        "id": "bGn4cfE1wQyg"
      },
      "source": [
        "s = Dataset()\n",
        "f_train = fe()\n",
        "x_train = f_train.preprocessing(s.df_train)\n",
        "y_train = s.df_y_train\n",
        "\n",
        "f_test = fe()\n",
        "x_test = f_test.preprocessing(s.df_test)\n",
        "y_test = s.df_y_test"
      ],
      "execution_count": null,
      "outputs": []
    },
    {
      "cell_type": "markdown",
      "metadata": {
        "id": "pusY5g62UT8v"
      },
      "source": [
        "# Train Validation *Split*"
      ]
    },
    {
      "cell_type": "code",
      "metadata": {
        "id": "-Exk27ZG9-8c"
      },
      "source": [
        "x_train,x_val,y_train,y_val = train_test_split(x_train, y_train, test_size=0.2, random_state=42)"
      ],
      "execution_count": null,
      "outputs": []
    },
    {
      "cell_type": "code",
      "metadata": {
        "id": "W0WPWBbSsoxy"
      },
      "source": [
        "print(x_train.shape)\n",
        "print(y_train.shape)\n",
        "print(x_val.shape)\n",
        "print(y_val.shape)"
      ],
      "execution_count": null,
      "outputs": []
    },
    {
      "cell_type": "markdown",
      "metadata": {
        "id": "44tJPVwLUZhe"
      },
      "source": [
        "# Train on Different Models"
      ]
    },
    {
      "cell_type": "code",
      "metadata": {
        "id": "hJUuwj5e_aX3"
      },
      "source": [
        "m = LCP(x_train.shape[1])\n",
        "m.trainall(x_train,y_train,x_val,y_val)"
      ],
      "execution_count": null,
      "outputs": []
    },
    {
      "cell_type": "markdown",
      "metadata": {
        "id": "bfHeJKVHUkuU"
      },
      "source": [
        "# Staking **[Final Model Used For Prediction]**\n",
        "- Adaptive Boost with KNN\n",
        "- Bagging Regressor with KNN\n",
        "- Gradient Boosting Regressor\n",
        "- Adaptive Boost with Random Forest\n",
        "- KNN\n",
        "- Bagging Regressor with Random Forest"
      ]
    },
    {
      "cell_type": "code",
      "metadata": {
        "id": "5ZirnhSX_mpm"
      },
      "source": [
        "y_pred1 = m.predict(x_test,6)\n",
        "scores(y_test,y_pred1)"
      ],
      "execution_count": null,
      "outputs": []
    },
    {
      "cell_type": "markdown",
      "metadata": {
        "id": "gBerIToEbfEA"
      },
      "source": [
        "# Save the Results"
      ]
    },
    {
      "cell_type": "code",
      "metadata": {
        "id": "y6p2dICdbej3"
      },
      "source": [
        "saveOutput(s.df_test_id,y_pred1,'Results_single.txt')"
      ],
      "execution_count": null,
      "outputs": []
    }
  ]
}
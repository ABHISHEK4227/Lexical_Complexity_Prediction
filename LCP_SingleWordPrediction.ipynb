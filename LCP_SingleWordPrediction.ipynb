{
  "nbformat": 4,
  "nbformat_minor": 0,
  "metadata": {
    "colab": {
      "name": " LCP_SingleWordPrediction.ipynb",
      "provenance": [],
      "collapsed_sections": []
    },
    "kernelspec": {
      "name": "python3",
      "display_name": "Python 3"
    },
    "language_info": {
      "name": "python"
    },
    "accelerator": "GPU"
  },
  "cells": [
    {
      "cell_type": "markdown",
      "metadata": {
        "id": "9J0R197e9RCB"
      },
      "source": [
        "# Download Packages Required"
      ]
    },
    {
      "cell_type": "code",
      "metadata": {
        "id": "cJ1bPvhv870N"
      },
      "source": [
        " !pip install transformers\n",
        " !pip install bert-for-tf2\n",
        " !pip install textstat"
      ],
      "execution_count": null,
      "outputs": []
    },
    {
      "cell_type": "markdown",
      "metadata": {
        "id": "lj3J_Z019Tot"
      },
      "source": [
        "## Download Glove "
      ]
    },
    {
      "cell_type": "code",
      "metadata": {
        "id": "F2FOcXk_9PJB"
      },
      "source": [
        " !wget http://nlp.stanford.edu/data/glove.42B.300d.zip\n",
        " !unzip glove*.zip\n"
      ],
      "execution_count": null,
      "outputs": []
    },
    {
      "cell_type": "code",
      "metadata": {
        "colab": {
          "base_uri": "https://localhost:8080/"
        },
        "id": "z2qJ8wEa9eG1",
        "outputId": "9a2b1882-754a-4aae-bbdc-7eb2ec314ae2"
      },
      "source": [
        "from dataset import Dataset\n",
        "from features import Features_extracter as fe\n",
        "from model import LCP\n",
        "from scorer import scores\n",
        "from scorer import saveOutput\n",
        "\n",
        "from sklearn.model_selection import train_test_split"
      ],
      "execution_count": null,
      "outputs": [
        {
          "output_type": "stream",
          "text": [
            "[nltk_data] Downloading package punkt to /root/nltk_data...\n",
            "[nltk_data]   Unzipping tokenizers/punkt.zip.\n",
            "[nltk_data] Downloading package stopwords to /root/nltk_data...\n",
            "[nltk_data]   Unzipping corpora/stopwords.zip.\n",
            "[nltk_data] Downloading package wordnet to /root/nltk_data...\n",
            "[nltk_data]   Unzipping corpora/wordnet.zip.\n"
          ],
          "name": "stdout"
        }
      ]
    },
    {
      "cell_type": "markdown",
      "metadata": {
        "id": "s5oKK7Zk-Dt8"
      },
      "source": [
        "# For single Word"
      ]
    },
    {
      "cell_type": "code",
      "metadata": {
        "id": "bGn4cfE1wQyg"
      },
      "source": [
        "import numpy as np"
      ],
      "execution_count": null,
      "outputs": []
    },
    {
      "cell_type": "code",
      "metadata": {
        "colab": {
          "base_uri": "https://localhost:8080/"
        },
        "id": "6ynx5qV69zC5",
        "outputId": "869a8599-8e39-4641-a52c-5f63711dcfec"
      },
      "source": [
        "from google.colab import drive\n",
        "drive.mount('/gdrive')"
      ],
      "execution_count": null,
      "outputs": [
        {
          "output_type": "stream",
          "text": [
            "Mounted at /gdrive\n"
          ],
          "name": "stdout"
        }
      ]
    },
    {
      "cell_type": "markdown",
      "metadata": {
        "id": "HVbi61tJT-4A"
      },
      "source": [
        "# Load Saved feature vectors"
      ]
    },
    {
      "cell_type": "code",
      "metadata": {
        "id": "e4hk_cxhuusn",
        "colab": {
          "base_uri": "https://localhost:8080/"
        },
        "outputId": "e0008e0b-cdf1-41fb-cb04-4caf1968e292"
      },
      "source": [
        "import pandas as pd\n",
        "\n",
        "x_train = pd.read_csv('/gdrive/MyDrive/NLP_SEMEVAL_LCP/feature_vector_train.txt',sep=',',header=None)\n",
        "x_train.head()\n",
        "\n",
        "x_val = pd.read_csv('/gdrive/MyDrive/NLP_SEMEVAL_LCP/feature_vector_val.txt',sep=',',header=None)\n",
        "x_val.head()\n",
        "\n",
        "x_test = pd.read_csv('/gdrive/MyDrive/NLP_SEMEVAL_LCP/feature_vector_test.txt',sep=',',header=None)\n",
        "x_test.head()\n",
        "\n",
        "\n",
        "y_train = pd.read_csv('/gdrive/MyDrive/NLP_SEMEVAL_LCP/feature_vector_train_y.txt',sep=',',header=None)\n",
        "y_train.head()\n",
        "\n",
        "y_val = pd.read_csv('/gdrive/MyDrive/NLP_SEMEVAL_LCP/feature_vector_val_y.txt',sep=',',header=None)\n",
        "y_val.head()\n",
        "\n",
        "y_test = pd.read_csv('/gdrive/MyDrive/NLP_SEMEVAL_LCP/feature_vector_test_y.txt',sep=',',header=None)\n",
        "y_test.head()\n",
        "\n",
        "\n",
        "\n",
        "\n",
        "y_train.shape\n"
      ],
      "execution_count": null,
      "outputs": [
        {
          "output_type": "execute_result",
          "data": {
            "text/plain": [
              "(6129, 2153)"
            ]
          },
          "metadata": {
            "tags": []
          },
          "execution_count": 16
        }
      ]
    },
    {
      "cell_type": "markdown",
      "metadata": {
        "id": "pusY5g62UT8v"
      },
      "source": [
        "# Train Validation Script"
      ]
    },
    {
      "cell_type": "code",
      "metadata": {
        "id": "-Exk27ZG9-8c"
      },
      "source": [
        "x_train,x_val,y_train,y_val = train_test_split(x_train, y_train, test_size=0.2, random_state=42)"
      ],
      "execution_count": null,
      "outputs": []
    },
    {
      "cell_type": "code",
      "metadata": {
        "colab": {
          "base_uri": "https://localhost:8080/"
        },
        "id": "W0WPWBbSsoxy",
        "outputId": "18d810d4-8ee9-416b-98e5-a1fbfcec4cda"
      },
      "source": [
        "print(x_train.shape)\n",
        "print(y_train.shape)\n",
        "print(x_val.shape)\n",
        "print(y_val.shape)"
      ],
      "execution_count": null,
      "outputs": [
        {
          "output_type": "stream",
          "text": [
            "(4903, 2153)\n",
            "(4903, 1)\n",
            "(1226, 2153)\n",
            "(1226, 1)\n"
          ],
          "name": "stdout"
        }
      ]
    },
    {
      "cell_type": "code",
      "metadata": {
        "id": "bKVgTp58u2lc"
      },
      "source": [
        "import numpy as np"
      ],
      "execution_count": null,
      "outputs": []
    },
    {
      "cell_type": "code",
      "metadata": {
        "id": "BqKuc_hbUYsT"
      },
      "source": [
        ""
      ],
      "execution_count": null,
      "outputs": []
    },
    {
      "cell_type": "markdown",
      "metadata": {
        "id": "44tJPVwLUZhe"
      },
      "source": [
        "# Train on Different Models"
      ]
    },
    {
      "cell_type": "code",
      "metadata": {
        "colab": {
          "base_uri": "https://localhost:8080/"
        },
        "id": "hJUuwj5e_aX3",
        "outputId": "f20da220-58e8-4f11-d2ca-342deff6e6d2"
      },
      "source": [
        "m = LCP(x_train.shape[1])\n",
        "m.trainall(x_train,y_train,x_val,y_val)"
      ],
      "execution_count": null,
      "outputs": [
        {
          "output_type": "stream",
          "text": [
            "Epoch 1/200\n",
            "96/96 [==============================] - 4s 7ms/step - loss: 0.0440 - mean_absolute_error: 0.1766 - mean_squared_error: 0.0440 - val_loss: 0.0177 - val_mean_absolute_error: 0.1032 - val_mean_squared_error: 0.0177\n",
            "r2_score -0.0020241867674084535\n",
            "pearson_score 0.08580023319800913\n",
            "Saving Model >>>>>>>>>>>>>>>>>>>>>>>>>>>>>>>>>>>>>>\n",
            "Epoch 2/200\n",
            "96/96 [==============================] - 0s 4ms/step - loss: 0.0180 - mean_absolute_error: 0.1047 - mean_squared_error: 0.0180 - val_loss: 0.0177 - val_mean_absolute_error: 0.1027 - val_mean_squared_error: 0.0177\n",
            "r2_score -0.0033164308959945377\n",
            "pearson_score 0.371978761588099\n",
            "Saving Model >>>>>>>>>>>>>>>>>>>>>>>>>>>>>>>>>>>>>>\n",
            "Epoch 3/200\n",
            "96/96 [==============================] - 0s 4ms/step - loss: 0.0179 - mean_absolute_error: 0.1044 - mean_squared_error: 0.0179 - val_loss: 0.0174 - val_mean_absolute_error: 0.1024 - val_mean_squared_error: 0.0174\n",
            "r2_score 0.014043748808854506\n",
            "pearson_score 0.6341423832781484\n",
            "Saving Model >>>>>>>>>>>>>>>>>>>>>>>>>>>>>>>>>>>>>>\n",
            "Epoch 4/200\n",
            "96/96 [==============================] - 0s 4ms/step - loss: 0.0178 - mean_absolute_error: 0.1045 - mean_squared_error: 0.0178 - val_loss: 0.0168 - val_mean_absolute_error: 0.1000 - val_mean_squared_error: 0.0168\n",
            "r2_score 0.05256556441577631\n",
            "pearson_score 0.6883963916743489\n",
            "Saving Model >>>>>>>>>>>>>>>>>>>>>>>>>>>>>>>>>>>>>>\n",
            "Epoch 5/200\n",
            "96/96 [==============================] - 0s 4ms/step - loss: 0.0171 - mean_absolute_error: 0.1018 - mean_squared_error: 0.0171 - val_loss: 0.0130 - val_mean_absolute_error: 0.0882 - val_mean_squared_error: 0.0130\n",
            "r2_score 0.26755692282919163\n",
            "pearson_score 0.697883471168064\n",
            "Saving Model >>>>>>>>>>>>>>>>>>>>>>>>>>>>>>>>>>>>>>\n",
            "Epoch 6/200\n",
            "96/96 [==============================] - 0s 4ms/step - loss: 0.0130 - mean_absolute_error: 0.0890 - mean_squared_error: 0.0130 - val_loss: 0.0102 - val_mean_absolute_error: 0.0770 - val_mean_squared_error: 0.0102\n",
            "r2_score 0.4253059748433038\n",
            "pearson_score 0.7025484175314395\n",
            "Saving Model >>>>>>>>>>>>>>>>>>>>>>>>>>>>>>>>>>>>>>\n",
            "Epoch 7/200\n",
            "96/96 [==============================] - 0s 4ms/step - loss: 0.0097 - mean_absolute_error: 0.0753 - mean_squared_error: 0.0097 - val_loss: 0.0084 - val_mean_absolute_error: 0.0700 - val_mean_squared_error: 0.0084\n",
            "r2_score 0.5235412819855174\n",
            "pearson_score 0.7364925615571788\n",
            "Saving Model >>>>>>>>>>>>>>>>>>>>>>>>>>>>>>>>>>>>>>\n",
            "Epoch 8/200\n",
            "96/96 [==============================] - 0s 4ms/step - loss: 0.0086 - mean_absolute_error: 0.0708 - mean_squared_error: 0.0086 - val_loss: 0.0081 - val_mean_absolute_error: 0.0684 - val_mean_squared_error: 0.0081\n",
            "r2_score 0.544029350278382\n",
            "pearson_score 0.7432555743181863\n",
            "Saving Model >>>>>>>>>>>>>>>>>>>>>>>>>>>>>>>>>>>>>>\n",
            "Epoch 9/200\n",
            "96/96 [==============================] - 0s 4ms/step - loss: 0.0080 - mean_absolute_error: 0.0693 - mean_squared_error: 0.0080 - val_loss: 0.0081 - val_mean_absolute_error: 0.0687 - val_mean_squared_error: 0.0081\n",
            "r2_score 0.540098195294241\n",
            "pearson_score 0.7454823723655661\n",
            "Saving Model >>>>>>>>>>>>>>>>>>>>>>>>>>>>>>>>>>>>>>\n",
            "Epoch 10/200\n",
            "96/96 [==============================] - 0s 4ms/step - loss: 0.0076 - mean_absolute_error: 0.0672 - mean_squared_error: 0.0076 - val_loss: 0.0076 - val_mean_absolute_error: 0.0670 - val_mean_squared_error: 0.0076\n",
            "r2_score 0.5679954004587218\n",
            "pearson_score 0.7556486313137487\n",
            "Saving Model >>>>>>>>>>>>>>>>>>>>>>>>>>>>>>>>>>>>>>\n",
            "Epoch 11/200\n",
            "96/96 [==============================] - 0s 4ms/step - loss: 0.0074 - mean_absolute_error: 0.0670 - mean_squared_error: 0.0074 - val_loss: 0.0078 - val_mean_absolute_error: 0.0676 - val_mean_squared_error: 0.0078\n",
            "r2_score 0.5610204678820794\n",
            "pearson_score 0.7546376602012773\n",
            "Epoch 12/200\n",
            "96/96 [==============================] - 0s 4ms/step - loss: 0.0072 - mean_absolute_error: 0.0660 - mean_squared_error: 0.0072 - val_loss: 0.0075 - val_mean_absolute_error: 0.0666 - val_mean_squared_error: 0.0075\n",
            "r2_score 0.5757218827587084\n",
            "pearson_score 0.760041517957582\n",
            "Saving Model >>>>>>>>>>>>>>>>>>>>>>>>>>>>>>>>>>>>>>\n",
            "Epoch 13/200\n",
            "96/96 [==============================] - 0s 4ms/step - loss: 0.0070 - mean_absolute_error: 0.0651 - mean_squared_error: 0.0070 - val_loss: 0.0076 - val_mean_absolute_error: 0.0672 - val_mean_squared_error: 0.0076\n",
            "r2_score 0.5679481582245766\n",
            "pearson_score 0.7599409375370695\n",
            "Epoch 14/200\n",
            "96/96 [==============================] - 0s 4ms/step - loss: 0.0070 - mean_absolute_error: 0.0653 - mean_squared_error: 0.0070 - val_loss: 0.0075 - val_mean_absolute_error: 0.0669 - val_mean_squared_error: 0.0075\n",
            "r2_score 0.5740838428330293\n",
            "pearson_score 0.7666859423387301\n",
            "Saving Model >>>>>>>>>>>>>>>>>>>>>>>>>>>>>>>>>>>>>>\n",
            "Epoch 15/200\n",
            "96/96 [==============================] - 0s 4ms/step - loss: 0.0070 - mean_absolute_error: 0.0647 - mean_squared_error: 0.0070 - val_loss: 0.0075 - val_mean_absolute_error: 0.0663 - val_mean_squared_error: 0.0075\n",
            "r2_score 0.5754094380488717\n",
            "pearson_score 0.7663263372422467\n",
            "Epoch 16/200\n",
            "96/96 [==============================] - 0s 4ms/step - loss: 0.0066 - mean_absolute_error: 0.0636 - mean_squared_error: 0.0066 - val_loss: 0.0073 - val_mean_absolute_error: 0.0659 - val_mean_squared_error: 0.0073\n",
            "r2_score 0.5852681464078933\n",
            "pearson_score 0.7680450823880287\n",
            "Saving Model >>>>>>>>>>>>>>>>>>>>>>>>>>>>>>>>>>>>>>\n",
            "Epoch 17/200\n",
            "96/96 [==============================] - 0s 4ms/step - loss: 0.0065 - mean_absolute_error: 0.0632 - mean_squared_error: 0.0065 - val_loss: 0.0075 - val_mean_absolute_error: 0.0667 - val_mean_squared_error: 0.0075\n",
            "r2_score 0.57529182199627\n",
            "pearson_score 0.7666753534544752\n",
            "Epoch 18/200\n",
            "96/96 [==============================] - 0s 4ms/step - loss: 0.0067 - mean_absolute_error: 0.0645 - mean_squared_error: 0.0067 - val_loss: 0.0074 - val_mean_absolute_error: 0.0665 - val_mean_squared_error: 0.0074\n",
            "r2_score 0.5811976678627726\n",
            "pearson_score 0.7668935819865547\n",
            "Epoch 19/200\n",
            "96/96 [==============================] - 0s 4ms/step - loss: 0.0065 - mean_absolute_error: 0.0630 - mean_squared_error: 0.0065 - val_loss: 0.0077 - val_mean_absolute_error: 0.0677 - val_mean_squared_error: 0.0077\n",
            "r2_score 0.5661060636957324\n",
            "pearson_score 0.762883429892014\n",
            "Epoch 20/200\n",
            "96/96 [==============================] - 0s 4ms/step - loss: 0.0062 - mean_absolute_error: 0.0614 - mean_squared_error: 0.0062 - val_loss: 0.0072 - val_mean_absolute_error: 0.0660 - val_mean_squared_error: 0.0072\n",
            "r2_score 0.5900790878841149\n",
            "pearson_score 0.7700277610413679\n",
            "Saving Model >>>>>>>>>>>>>>>>>>>>>>>>>>>>>>>>>>>>>>\n",
            "Epoch 21/200\n",
            "96/96 [==============================] - 0s 4ms/step - loss: 0.0067 - mean_absolute_error: 0.0640 - mean_squared_error: 0.0067 - val_loss: 0.0072 - val_mean_absolute_error: 0.0655 - val_mean_squared_error: 0.0072\n",
            "r2_score 0.592510429010682\n",
            "pearson_score 0.7715933486705694\n",
            "Saving Model >>>>>>>>>>>>>>>>>>>>>>>>>>>>>>>>>>>>>>\n",
            "Epoch 22/200\n",
            "96/96 [==============================] - 0s 4ms/step - loss: 0.0061 - mean_absolute_error: 0.0609 - mean_squared_error: 0.0061 - val_loss: 0.0075 - val_mean_absolute_error: 0.0667 - val_mean_squared_error: 0.0075\n",
            "r2_score 0.5780667595068014\n",
            "pearson_score 0.7697846961670135\n",
            "Epoch 23/200\n",
            "96/96 [==============================] - 0s 4ms/step - loss: 0.0060 - mean_absolute_error: 0.0604 - mean_squared_error: 0.0060 - val_loss: 0.0075 - val_mean_absolute_error: 0.0665 - val_mean_squared_error: 0.0075\n",
            "r2_score 0.5782754914839686\n",
            "pearson_score 0.7701428192012417\n",
            "Epoch 24/200\n",
            "96/96 [==============================] - 0s 4ms/step - loss: 0.0060 - mean_absolute_error: 0.0604 - mean_squared_error: 0.0060 - val_loss: 0.0072 - val_mean_absolute_error: 0.0657 - val_mean_squared_error: 0.0072\n",
            "r2_score 0.594274420433994\n",
            "pearson_score 0.7722258712786224\n",
            "Saving Model >>>>>>>>>>>>>>>>>>>>>>>>>>>>>>>>>>>>>>\n",
            "Epoch 25/200\n",
            "96/96 [==============================] - 0s 4ms/step - loss: 0.0060 - mean_absolute_error: 0.0608 - mean_squared_error: 0.0060 - val_loss: 0.0073 - val_mean_absolute_error: 0.0661 - val_mean_squared_error: 0.0073\n",
            "r2_score 0.5876645337276537\n",
            "pearson_score 0.7698291869421587\n",
            "Epoch 26/200\n",
            "96/96 [==============================] - 0s 4ms/step - loss: 0.0058 - mean_absolute_error: 0.0596 - mean_squared_error: 0.0058 - val_loss: 0.0072 - val_mean_absolute_error: 0.0657 - val_mean_squared_error: 0.0072\n",
            "r2_score 0.5926184870881914\n",
            "pearson_score 0.7710867846365332\n",
            "Epoch 27/200\n",
            "96/96 [==============================] - 0s 4ms/step - loss: 0.0059 - mean_absolute_error: 0.0597 - mean_squared_error: 0.0059 - val_loss: 0.0074 - val_mean_absolute_error: 0.0662 - val_mean_squared_error: 0.0074\n",
            "r2_score 0.5816076963478287\n",
            "pearson_score 0.7710751601539658\n",
            "Epoch 28/200\n",
            "96/96 [==============================] - 0s 4ms/step - loss: 0.0058 - mean_absolute_error: 0.0601 - mean_squared_error: 0.0058 - val_loss: 0.0074 - val_mean_absolute_error: 0.0667 - val_mean_squared_error: 0.0074\n",
            "r2_score 0.5807038904629952\n",
            "pearson_score 0.7690698719733567\n",
            "Epoch 29/200\n",
            "96/96 [==============================] - 0s 4ms/step - loss: 0.0058 - mean_absolute_error: 0.0604 - mean_squared_error: 0.0058 - val_loss: 0.0074 - val_mean_absolute_error: 0.0662 - val_mean_squared_error: 0.0074\n",
            "r2_score 0.5827932248387804\n",
            "pearson_score 0.7712229752375955\n",
            "Epoch 30/200\n",
            "96/96 [==============================] - 0s 4ms/step - loss: 0.0058 - mean_absolute_error: 0.0596 - mean_squared_error: 0.0058 - val_loss: 0.0080 - val_mean_absolute_error: 0.0685 - val_mean_squared_error: 0.0080\n",
            "r2_score 0.5499872475447238\n",
            "pearson_score 0.7682484375039101\n",
            "Epoch 31/200\n",
            "96/96 [==============================] - 0s 4ms/step - loss: 0.0059 - mean_absolute_error: 0.0597 - mean_squared_error: 0.0059 - val_loss: 0.0074 - val_mean_absolute_error: 0.0663 - val_mean_squared_error: 0.0074\n",
            "r2_score 0.5839618195403846\n",
            "pearson_score 0.7696904601450207\n",
            "Epoch 32/200\n",
            "96/96 [==============================] - 0s 4ms/step - loss: 0.0054 - mean_absolute_error: 0.0576 - mean_squared_error: 0.0054 - val_loss: 0.0072 - val_mean_absolute_error: 0.0660 - val_mean_squared_error: 0.0072\n",
            "r2_score 0.5916315670135922\n",
            "pearson_score 0.7709555143273231\n",
            "Epoch 33/200\n",
            "96/96 [==============================] - 0s 4ms/step - loss: 0.0056 - mean_absolute_error: 0.0591 - mean_squared_error: 0.0056 - val_loss: 0.0075 - val_mean_absolute_error: 0.0668 - val_mean_squared_error: 0.0075\n",
            "r2_score 0.5743853364058651\n",
            "pearson_score 0.7696787770863921\n",
            "Epoch 34/200\n",
            "96/96 [==============================] - 0s 4ms/step - loss: 0.0056 - mean_absolute_error: 0.0589 - mean_squared_error: 0.0056 - val_loss: 0.0073 - val_mean_absolute_error: 0.0658 - val_mean_squared_error: 0.0073\n",
            "r2_score 0.5892586053324664\n",
            "pearson_score 0.7711181883195006\n",
            "Epoch 35/200\n",
            "96/96 [==============================] - 0s 4ms/step - loss: 0.0055 - mean_absolute_error: 0.0576 - mean_squared_error: 0.0055 - val_loss: 0.0073 - val_mean_absolute_error: 0.0660 - val_mean_squared_error: 0.0073\n",
            "r2_score 0.5892582700082512\n",
            "pearson_score 0.7707686173454126\n",
            "Epoch 36/200\n",
            "96/96 [==============================] - 0s 4ms/step - loss: 0.0053 - mean_absolute_error: 0.0564 - mean_squared_error: 0.0053 - val_loss: 0.0073 - val_mean_absolute_error: 0.0660 - val_mean_squared_error: 0.0073\n",
            "r2_score 0.5879066702694197\n",
            "pearson_score 0.7697287934176151\n",
            "Epoch 37/200\n",
            "96/96 [==============================] - 0s 4ms/step - loss: 0.0053 - mean_absolute_error: 0.0575 - mean_squared_error: 0.0053 - val_loss: 0.0073 - val_mean_absolute_error: 0.0659 - val_mean_squared_error: 0.0073\n",
            "r2_score 0.5884432585376185\n",
            "pearson_score 0.7721497389185588\n",
            "Epoch 38/200\n",
            "96/96 [==============================] - 0s 4ms/step - loss: 0.0053 - mean_absolute_error: 0.0570 - mean_squared_error: 0.0053 - val_loss: 0.0072 - val_mean_absolute_error: 0.0659 - val_mean_squared_error: 0.0072\n",
            "r2_score 0.5921193270554868\n",
            "pearson_score 0.7716403546305743\n",
            "Epoch 39/200\n",
            "96/96 [==============================] - 0s 4ms/step - loss: 0.0049 - mean_absolute_error: 0.0552 - mean_squared_error: 0.0049 - val_loss: 0.0072 - val_mean_absolute_error: 0.0657 - val_mean_squared_error: 0.0072\n",
            "r2_score 0.5939580681400991\n",
            "pearson_score 0.7710379040134073\n",
            "Epoch 40/200\n",
            "96/96 [==============================] - 0s 4ms/step - loss: 0.0052 - mean_absolute_error: 0.0563 - mean_squared_error: 0.0052 - val_loss: 0.0074 - val_mean_absolute_error: 0.0664 - val_mean_squared_error: 0.0074\n",
            "r2_score 0.5824434586744982\n",
            "pearson_score 0.7685219429076425\n",
            "Epoch 41/200\n",
            "96/96 [==============================] - 0s 4ms/step - loss: 0.0048 - mean_absolute_error: 0.0544 - mean_squared_error: 0.0048 - val_loss: 0.0072 - val_mean_absolute_error: 0.0658 - val_mean_squared_error: 0.0072\n",
            "r2_score 0.5915240358878868\n",
            "pearson_score 0.7702005148642743\n",
            "Epoch 42/200\n",
            "96/96 [==============================] - 0s 4ms/step - loss: 0.0050 - mean_absolute_error: 0.0557 - mean_squared_error: 0.0050 - val_loss: 0.0073 - val_mean_absolute_error: 0.0660 - val_mean_squared_error: 0.0073\n",
            "r2_score 0.5877993002702415\n",
            "pearson_score 0.7702853208109393\n",
            "Epoch 43/200\n",
            "96/96 [==============================] - 0s 4ms/step - loss: 0.0050 - mean_absolute_error: 0.0555 - mean_squared_error: 0.0050 - val_loss: 0.0074 - val_mean_absolute_error: 0.0666 - val_mean_squared_error: 0.0074\n",
            "r2_score 0.5792567283610643\n",
            "pearson_score 0.7690760373568191\n",
            "Epoch 44/200\n",
            "96/96 [==============================] - 0s 4ms/step - loss: 0.0050 - mean_absolute_error: 0.0550 - mean_squared_error: 0.0050 - val_loss: 0.0074 - val_mean_absolute_error: 0.0665 - val_mean_squared_error: 0.0074\n",
            "r2_score 0.5792619311176054\n",
            "pearson_score 0.7683297386178218\n",
            "Epoch 45/200\n",
            "96/96 [==============================] - 0s 4ms/step - loss: 0.0050 - mean_absolute_error: 0.0553 - mean_squared_error: 0.0050 - val_loss: 0.0076 - val_mean_absolute_error: 0.0669 - val_mean_squared_error: 0.0076\n",
            "r2_score 0.5720280699961686\n",
            "pearson_score 0.7682894910094916\n",
            "Epoch 46/200\n",
            "96/96 [==============================] - 0s 4ms/step - loss: 0.0052 - mean_absolute_error: 0.0565 - mean_squared_error: 0.0052 - val_loss: 0.0073 - val_mean_absolute_error: 0.0662 - val_mean_squared_error: 0.0073\n",
            "r2_score 0.5845832518441254\n",
            "pearson_score 0.7695295840142663\n",
            "Epoch 47/200\n",
            "96/96 [==============================] - 0s 4ms/step - loss: 0.0050 - mean_absolute_error: 0.0552 - mean_squared_error: 0.0050 - val_loss: 0.0074 - val_mean_absolute_error: 0.0663 - val_mean_squared_error: 0.0073\n",
            "r2_score 0.5843101327099263\n",
            "pearson_score 0.7706501529460866\n",
            "Epoch 48/200\n",
            "96/96 [==============================] - 0s 4ms/step - loss: 0.0050 - mean_absolute_error: 0.0554 - mean_squared_error: 0.0050 - val_loss: 0.0073 - val_mean_absolute_error: 0.0663 - val_mean_squared_error: 0.0073\n",
            "r2_score 0.5846905891272618\n",
            "pearson_score 0.7696242401259723\n",
            "Epoch 49/200\n",
            "96/96 [==============================] - 0s 4ms/step - loss: 0.0048 - mean_absolute_error: 0.0541 - mean_squared_error: 0.0048 - val_loss: 0.0075 - val_mean_absolute_error: 0.0664 - val_mean_squared_error: 0.0075\n",
            "r2_score 0.5779565616312621\n",
            "pearson_score 0.7670922077316363\n",
            "Epoch 50/200\n",
            "96/96 [==============================] - 0s 4ms/step - loss: 0.0049 - mean_absolute_error: 0.0548 - mean_squared_error: 0.0049 - val_loss: 0.0073 - val_mean_absolute_error: 0.0664 - val_mean_squared_error: 0.0073\n",
            "r2_score 0.5851524597395261\n",
            "pearson_score 0.7691847580865575\n",
            "Epoch 51/200\n",
            "96/96 [==============================] - 0s 4ms/step - loss: 0.0048 - mean_absolute_error: 0.0546 - mean_squared_error: 0.0048 - val_loss: 0.0072 - val_mean_absolute_error: 0.0657 - val_mean_squared_error: 0.0072\n",
            "r2_score 0.5910712143197923\n",
            "pearson_score 0.7726933742692482\n",
            "Saving Model >>>>>>>>>>>>>>>>>>>>>>>>>>>>>>>>>>>>>>\n",
            "Epoch 52/200\n",
            "96/96 [==============================] - 0s 4ms/step - loss: 0.0046 - mean_absolute_error: 0.0533 - mean_squared_error: 0.0046 - val_loss: 0.0073 - val_mean_absolute_error: 0.0662 - val_mean_squared_error: 0.0073\n",
            "r2_score 0.5874821496649785\n",
            "pearson_score 0.7702788796653363\n",
            "Epoch 53/200\n",
            "96/96 [==============================] - 0s 4ms/step - loss: 0.0047 - mean_absolute_error: 0.0534 - mean_squared_error: 0.0047 - val_loss: 0.0072 - val_mean_absolute_error: 0.0660 - val_mean_squared_error: 0.0072\n",
            "r2_score 0.5908063265279802\n",
            "pearson_score 0.773004870061727\n",
            "Saving Model >>>>>>>>>>>>>>>>>>>>>>>>>>>>>>>>>>>>>>\n",
            "Epoch 54/200\n",
            "96/96 [==============================] - 0s 4ms/step - loss: 0.0045 - mean_absolute_error: 0.0526 - mean_squared_error: 0.0045 - val_loss: 0.0073 - val_mean_absolute_error: 0.0659 - val_mean_squared_error: 0.0073\n",
            "r2_score 0.588379628196976\n",
            "pearson_score 0.7703679843729972\n",
            "Epoch 55/200\n",
            "96/96 [==============================] - 0s 4ms/step - loss: 0.0046 - mean_absolute_error: 0.0532 - mean_squared_error: 0.0046 - val_loss: 0.0074 - val_mean_absolute_error: 0.0668 - val_mean_squared_error: 0.0074\n",
            "r2_score 0.5793239208195835\n",
            "pearson_score 0.7692342817440154\n",
            "Epoch 56/200\n",
            "96/96 [==============================] - 0s 4ms/step - loss: 0.0046 - mean_absolute_error: 0.0532 - mean_squared_error: 0.0046 - val_loss: 0.0073 - val_mean_absolute_error: 0.0662 - val_mean_squared_error: 0.0073\n",
            "r2_score 0.5871581269935081\n",
            "pearson_score 0.7721781540084273\n",
            "Epoch 57/200\n",
            "96/96 [==============================] - 0s 4ms/step - loss: 0.0045 - mean_absolute_error: 0.0527 - mean_squared_error: 0.0045 - val_loss: 0.0073 - val_mean_absolute_error: 0.0662 - val_mean_squared_error: 0.0073\n",
            "r2_score 0.5879554400396223\n",
            "pearson_score 0.7697943947837466\n",
            "Epoch 58/200\n",
            "96/96 [==============================] - 0s 4ms/step - loss: 0.0045 - mean_absolute_error: 0.0529 - mean_squared_error: 0.0045 - val_loss: 0.0073 - val_mean_absolute_error: 0.0661 - val_mean_squared_error: 0.0073\n",
            "r2_score 0.5881037893825558\n",
            "pearson_score 0.7691996384768607\n",
            "Epoch 59/200\n",
            "96/96 [==============================] - 0s 4ms/step - loss: 0.0044 - mean_absolute_error: 0.0519 - mean_squared_error: 0.0044 - val_loss: 0.0074 - val_mean_absolute_error: 0.0664 - val_mean_squared_error: 0.0074\n",
            "r2_score 0.5832924798893813\n",
            "pearson_score 0.7664917746073427\n",
            "Epoch 60/200\n",
            "96/96 [==============================] - 0s 4ms/step - loss: 0.0042 - mean_absolute_error: 0.0511 - mean_squared_error: 0.0042 - val_loss: 0.0071 - val_mean_absolute_error: 0.0655 - val_mean_squared_error: 0.0071\n",
            "r2_score 0.5956976600688364\n",
            "pearson_score 0.7722371709620806\n",
            "Epoch 61/200\n",
            "96/96 [==============================] - 0s 4ms/step - loss: 0.0043 - mean_absolute_error: 0.0513 - mean_squared_error: 0.0043 - val_loss: 0.0073 - val_mean_absolute_error: 0.0661 - val_mean_squared_error: 0.0073\n",
            "r2_score 0.5870936016088849\n",
            "pearson_score 0.7697028133577609\n",
            "Epoch 62/200\n",
            "96/96 [==============================] - 0s 4ms/step - loss: 0.0046 - mean_absolute_error: 0.0534 - mean_squared_error: 0.0046 - val_loss: 0.0072 - val_mean_absolute_error: 0.0663 - val_mean_squared_error: 0.0072\n",
            "r2_score 0.5908259980921982\n",
            "pearson_score 0.771032956366456\n",
            "Epoch 63/200\n",
            "96/96 [==============================] - 0s 4ms/step - loss: 0.0043 - mean_absolute_error: 0.0511 - mean_squared_error: 0.0043 - val_loss: 0.0074 - val_mean_absolute_error: 0.0666 - val_mean_squared_error: 0.0074\n",
            "r2_score 0.5810823147120103\n",
            "pearson_score 0.7710335145805555\n",
            "Epoch 64/200\n",
            "96/96 [==============================] - 0s 4ms/step - loss: 0.0045 - mean_absolute_error: 0.0525 - mean_squared_error: 0.0045 - val_loss: 0.0073 - val_mean_absolute_error: 0.0666 - val_mean_squared_error: 0.0073\n",
            "r2_score 0.5855414323153069\n",
            "pearson_score 0.769162197560534\n",
            "Epoch 65/200\n",
            "96/96 [==============================] - 0s 4ms/step - loss: 0.0043 - mean_absolute_error: 0.0518 - mean_squared_error: 0.0043 - val_loss: 0.0074 - val_mean_absolute_error: 0.0666 - val_mean_squared_error: 0.0074\n",
            "r2_score 0.5835658407119728\n",
            "pearson_score 0.7699803252083224\n",
            "Epoch 66/200\n",
            "96/96 [==============================] - 0s 4ms/step - loss: 0.0043 - mean_absolute_error: 0.0516 - mean_squared_error: 0.0043 - val_loss: 0.0076 - val_mean_absolute_error: 0.0679 - val_mean_squared_error: 0.0076\n",
            "r2_score 0.5676309082793562\n",
            "pearson_score 0.7693382861384731\n",
            "Epoch 67/200\n",
            "96/96 [==============================] - 0s 4ms/step - loss: 0.0044 - mean_absolute_error: 0.0518 - mean_squared_error: 0.0044 - val_loss: 0.0073 - val_mean_absolute_error: 0.0664 - val_mean_squared_error: 0.0073\n",
            "r2_score 0.586999009627742\n",
            "pearson_score 0.7687304188527717\n",
            "Epoch 68/200\n",
            "96/96 [==============================] - 0s 4ms/step - loss: 0.0043 - mean_absolute_error: 0.0509 - mean_squared_error: 0.0043 - val_loss: 0.0074 - val_mean_absolute_error: 0.0667 - val_mean_squared_error: 0.0074\n",
            "r2_score 0.5810544663955131\n",
            "pearson_score 0.7698371238891764\n",
            "Epoch 69/200\n",
            "96/96 [==============================] - 0s 4ms/step - loss: 0.0043 - mean_absolute_error: 0.0516 - mean_squared_error: 0.0043 - val_loss: 0.0073 - val_mean_absolute_error: 0.0662 - val_mean_squared_error: 0.0073\n",
            "r2_score 0.5874982766969978\n",
            "pearson_score 0.7678997685849854\n",
            "Epoch 70/200\n",
            "96/96 [==============================] - 0s 4ms/step - loss: 0.0042 - mean_absolute_error: 0.0510 - mean_squared_error: 0.0042 - val_loss: 0.0073 - val_mean_absolute_error: 0.0665 - val_mean_squared_error: 0.0073\n",
            "r2_score 0.5866609949062322\n",
            "pearson_score 0.7670023893107869\n",
            "Epoch 71/200\n",
            "96/96 [==============================] - 0s 4ms/step - loss: 0.0041 - mean_absolute_error: 0.0504 - mean_squared_error: 0.0041 - val_loss: 0.0076 - val_mean_absolute_error: 0.0675 - val_mean_squared_error: 0.0076\n",
            "r2_score 0.5680861565942872\n",
            "pearson_score 0.7663222557269238\n",
            "Epoch 72/200\n",
            "96/96 [==============================] - 0s 4ms/step - loss: 0.0042 - mean_absolute_error: 0.0506 - mean_squared_error: 0.0042 - val_loss: 0.0074 - val_mean_absolute_error: 0.0668 - val_mean_squared_error: 0.0074\n",
            "r2_score 0.5812609129408479\n",
            "pearson_score 0.765277478592582\n",
            "Epoch 73/200\n",
            "96/96 [==============================] - 0s 4ms/step - loss: 0.0041 - mean_absolute_error: 0.0506 - mean_squared_error: 0.0041 - val_loss: 0.0073 - val_mean_absolute_error: 0.0665 - val_mean_squared_error: 0.0073\n",
            "r2_score 0.585246078978035\n",
            "pearson_score 0.7674525797026014\n",
            "Epoch 74/200\n",
            "96/96 [==============================] - 0s 4ms/step - loss: 0.0041 - mean_absolute_error: 0.0503 - mean_squared_error: 0.0041 - val_loss: 0.0078 - val_mean_absolute_error: 0.0683 - val_mean_squared_error: 0.0078\n",
            "r2_score 0.5607585795865673\n",
            "pearson_score 0.763896442199967\n",
            "Epoch 75/200\n",
            "96/96 [==============================] - 0s 4ms/step - loss: 0.0041 - mean_absolute_error: 0.0504 - mean_squared_error: 0.0041 - val_loss: 0.0075 - val_mean_absolute_error: 0.0670 - val_mean_squared_error: 0.0075\n",
            "r2_score 0.5778225073673185\n",
            "pearson_score 0.7674957185602884\n",
            "Epoch 76/200\n",
            "96/96 [==============================] - 0s 4ms/step - loss: 0.0041 - mean_absolute_error: 0.0493 - mean_squared_error: 0.0041 - val_loss: 0.0075 - val_mean_absolute_error: 0.0669 - val_mean_squared_error: 0.0075\n",
            "r2_score 0.5784987077036257\n",
            "pearson_score 0.7640995442790343\n",
            "Epoch 77/200\n",
            "96/96 [==============================] - 0s 4ms/step - loss: 0.0040 - mean_absolute_error: 0.0493 - mean_squared_error: 0.0040 - val_loss: 0.0073 - val_mean_absolute_error: 0.0663 - val_mean_squared_error: 0.0073\n",
            "r2_score 0.58819685171528\n",
            "pearson_score 0.7681061788379137\n",
            "Epoch 78/200\n",
            "96/96 [==============================] - 0s 4ms/step - loss: 0.0040 - mean_absolute_error: 0.0498 - mean_squared_error: 0.0040 - val_loss: 0.0073 - val_mean_absolute_error: 0.0664 - val_mean_squared_error: 0.0073\n",
            "r2_score 0.5863948314515173\n",
            "pearson_score 0.7688835153888315\n",
            "Epoch 79/200\n",
            "96/96 [==============================] - 0s 4ms/step - loss: 0.0039 - mean_absolute_error: 0.0493 - mean_squared_error: 0.0039 - val_loss: 0.0073 - val_mean_absolute_error: 0.0663 - val_mean_squared_error: 0.0073\n",
            "r2_score 0.5884674081308037\n",
            "pearson_score 0.7683803609463344\n",
            "Epoch 80/200\n",
            "96/96 [==============================] - 0s 4ms/step - loss: 0.0040 - mean_absolute_error: 0.0498 - mean_squared_error: 0.0040 - val_loss: 0.0076 - val_mean_absolute_error: 0.0674 - val_mean_squared_error: 0.0076\n",
            "r2_score 0.5726042900518351\n",
            "pearson_score 0.766232093895061\n",
            "Epoch 81/200\n",
            "96/96 [==============================] - 0s 4ms/step - loss: 0.0040 - mean_absolute_error: 0.0493 - mean_squared_error: 0.0040 - val_loss: 0.0074 - val_mean_absolute_error: 0.0669 - val_mean_squared_error: 0.0074\n",
            "r2_score 0.5804793844846061\n",
            "pearson_score 0.7644264591038952\n",
            "Epoch 82/200\n",
            "96/96 [==============================] - 0s 4ms/step - loss: 0.0041 - mean_absolute_error: 0.0499 - mean_squared_error: 0.0041 - val_loss: 0.0074 - val_mean_absolute_error: 0.0668 - val_mean_squared_error: 0.0074\n",
            "r2_score 0.5805960976738029\n",
            "pearson_score 0.7659345051066715\n",
            "Epoch 83/200\n",
            "96/96 [==============================] - 0s 4ms/step - loss: 0.0038 - mean_absolute_error: 0.0474 - mean_squared_error: 0.0038 - val_loss: 0.0075 - val_mean_absolute_error: 0.0670 - val_mean_squared_error: 0.0075\n",
            "r2_score 0.5784260357115214\n",
            "pearson_score 0.7683214306669655\n",
            "Epoch 84/200\n",
            "96/96 [==============================] - 0s 4ms/step - loss: 0.0039 - mean_absolute_error: 0.0492 - mean_squared_error: 0.0039 - val_loss: 0.0074 - val_mean_absolute_error: 0.0670 - val_mean_squared_error: 0.0074\n",
            "r2_score 0.578960672251549\n",
            "pearson_score 0.7640452134604789\n",
            "Epoch 85/200\n",
            "96/96 [==============================] - 0s 4ms/step - loss: 0.0039 - mean_absolute_error: 0.0485 - mean_squared_error: 0.0039 - val_loss: 0.0075 - val_mean_absolute_error: 0.0670 - val_mean_squared_error: 0.0075\n",
            "r2_score 0.5765317942621346\n",
            "pearson_score 0.7661222290661304\n",
            "Epoch 86/200\n",
            "96/96 [==============================] - 0s 4ms/step - loss: 0.0036 - mean_absolute_error: 0.0473 - mean_squared_error: 0.0036 - val_loss: 0.0073 - val_mean_absolute_error: 0.0667 - val_mean_squared_error: 0.0073\n",
            "r2_score 0.5895115427128742\n",
            "pearson_score 0.7699372937048004\n",
            "Epoch 87/200\n",
            "96/96 [==============================] - 0s 4ms/step - loss: 0.0041 - mean_absolute_error: 0.0501 - mean_squared_error: 0.0041 - val_loss: 0.0073 - val_mean_absolute_error: 0.0667 - val_mean_squared_error: 0.0073\n",
            "r2_score 0.5857993374855759\n",
            "pearson_score 0.7663114404971442\n",
            "Epoch 88/200\n",
            "96/96 [==============================] - 0s 4ms/step - loss: 0.0038 - mean_absolute_error: 0.0479 - mean_squared_error: 0.0038 - val_loss: 0.0073 - val_mean_absolute_error: 0.0663 - val_mean_squared_error: 0.0073\n",
            "r2_score 0.5871093469081112\n",
            "pearson_score 0.7671258289965938\n",
            "Epoch 89/200\n",
            "96/96 [==============================] - 0s 4ms/step - loss: 0.0038 - mean_absolute_error: 0.0483 - mean_squared_error: 0.0038 - val_loss: 0.0074 - val_mean_absolute_error: 0.0670 - val_mean_squared_error: 0.0074\n",
            "r2_score 0.5803714348478649\n",
            "pearson_score 0.7644554823398231\n",
            "Epoch 90/200\n",
            "96/96 [==============================] - 0s 4ms/step - loss: 0.0038 - mean_absolute_error: 0.0481 - mean_squared_error: 0.0038 - val_loss: 0.0075 - val_mean_absolute_error: 0.0674 - val_mean_squared_error: 0.0075\n",
            "r2_score 0.5748223776006773\n",
            "pearson_score 0.763771359218768\n",
            "Epoch 91/200\n",
            "96/96 [==============================] - 0s 4ms/step - loss: 0.0039 - mean_absolute_error: 0.0487 - mean_squared_error: 0.0039 - val_loss: 0.0075 - val_mean_absolute_error: 0.0673 - val_mean_squared_error: 0.0075\n",
            "r2_score 0.5761577089159027\n",
            "pearson_score 0.7650009442747382\n",
            "Epoch 92/200\n",
            "96/96 [==============================] - 0s 4ms/step - loss: 0.0038 - mean_absolute_error: 0.0477 - mean_squared_error: 0.0038 - val_loss: 0.0075 - val_mean_absolute_error: 0.0675 - val_mean_squared_error: 0.0075\n",
            "r2_score 0.5746693634293265\n",
            "pearson_score 0.7644755761278877\n",
            "Epoch 93/200\n",
            "96/96 [==============================] - 0s 4ms/step - loss: 0.0039 - mean_absolute_error: 0.0480 - mean_squared_error: 0.0039 - val_loss: 0.0075 - val_mean_absolute_error: 0.0676 - val_mean_squared_error: 0.0075\n",
            "r2_score 0.5739477085130187\n",
            "pearson_score 0.761339521464316\n",
            "Epoch 94/200\n",
            "96/96 [==============================] - 0s 4ms/step - loss: 0.0036 - mean_absolute_error: 0.0474 - mean_squared_error: 0.0036 - val_loss: 0.0075 - val_mean_absolute_error: 0.0674 - val_mean_squared_error: 0.0075\n",
            "r2_score 0.5765165327968862\n",
            "pearson_score 0.7631338697333608\n",
            "Epoch 95/200\n",
            "96/96 [==============================] - 0s 4ms/step - loss: 0.0036 - mean_absolute_error: 0.0469 - mean_squared_error: 0.0036 - val_loss: 0.0075 - val_mean_absolute_error: 0.0674 - val_mean_squared_error: 0.0075\n",
            "r2_score 0.578142605566969\n",
            "pearson_score 0.7639378123814887\n",
            "Epoch 96/200\n",
            "96/96 [==============================] - 0s 4ms/step - loss: 0.0035 - mean_absolute_error: 0.0466 - mean_squared_error: 0.0035 - val_loss: 0.0074 - val_mean_absolute_error: 0.0669 - val_mean_squared_error: 0.0074\n",
            "r2_score 0.5809122919517807\n",
            "pearson_score 0.7669539392564673\n",
            "Epoch 97/200\n",
            "96/96 [==============================] - 0s 4ms/step - loss: 0.0037 - mean_absolute_error: 0.0472 - mean_squared_error: 0.0037 - val_loss: 0.0076 - val_mean_absolute_error: 0.0678 - val_mean_squared_error: 0.0076\n",
            "r2_score 0.5680323274896095\n",
            "pearson_score 0.7640173882641662\n",
            "Epoch 98/200\n",
            "96/96 [==============================] - 0s 4ms/step - loss: 0.0037 - mean_absolute_error: 0.0472 - mean_squared_error: 0.0037 - val_loss: 0.0074 - val_mean_absolute_error: 0.0669 - val_mean_squared_error: 0.0074\n",
            "r2_score 0.57877689155107\n",
            "pearson_score 0.7660724325187538\n",
            "Epoch 99/200\n",
            "96/96 [==============================] - 0s 4ms/step - loss: 0.0034 - mean_absolute_error: 0.0461 - mean_squared_error: 0.0034 - val_loss: 0.0075 - val_mean_absolute_error: 0.0670 - val_mean_squared_error: 0.0075\n",
            "r2_score 0.5784642146755564\n",
            "pearson_score 0.764390381402008\n",
            "Epoch 100/200\n",
            "96/96 [==============================] - 0s 4ms/step - loss: 0.0036 - mean_absolute_error: 0.0464 - mean_squared_error: 0.0036 - val_loss: 0.0073 - val_mean_absolute_error: 0.0667 - val_mean_squared_error: 0.0073\n",
            "r2_score 0.5869041438587148\n",
            "pearson_score 0.7677790937473625\n",
            "Epoch 101/200\n",
            "96/96 [==============================] - 0s 4ms/step - loss: 0.0034 - mean_absolute_error: 0.0458 - mean_squared_error: 0.0034 - val_loss: 0.0075 - val_mean_absolute_error: 0.0676 - val_mean_squared_error: 0.0075\n",
            "r2_score 0.57458860701267\n",
            "pearson_score 0.765959149167949\n",
            "Epoch 102/200\n",
            "96/96 [==============================] - 0s 4ms/step - loss: 0.0035 - mean_absolute_error: 0.0465 - mean_squared_error: 0.0035 - val_loss: 0.0074 - val_mean_absolute_error: 0.0670 - val_mean_squared_error: 0.0074\n",
            "r2_score 0.5807249066198066\n",
            "pearson_score 0.7671904827253155\n",
            "Epoch 103/200\n",
            "96/96 [==============================] - 0s 4ms/step - loss: 0.0035 - mean_absolute_error: 0.0463 - mean_squared_error: 0.0035 - val_loss: 0.0075 - val_mean_absolute_error: 0.0675 - val_mean_squared_error: 0.0075\n",
            "r2_score 0.5784378075373956\n",
            "pearson_score 0.7636580685184062\n",
            "Epoch 104/200\n",
            "96/96 [==============================] - 0s 4ms/step - loss: 0.0035 - mean_absolute_error: 0.0464 - mean_squared_error: 0.0035 - val_loss: 0.0076 - val_mean_absolute_error: 0.0677 - val_mean_squared_error: 0.0076\n",
            "r2_score 0.5718383763954294\n",
            "pearson_score 0.763580260404772\n",
            "Epoch 105/200\n",
            "96/96 [==============================] - 0s 4ms/step - loss: 0.0036 - mean_absolute_error: 0.0466 - mean_squared_error: 0.0036 - val_loss: 0.0074 - val_mean_absolute_error: 0.0669 - val_mean_squared_error: 0.0074\n",
            "r2_score 0.5796172325802849\n",
            "pearson_score 0.7675620206752672\n",
            "Epoch 106/200\n",
            "96/96 [==============================] - 0s 4ms/step - loss: 0.0035 - mean_absolute_error: 0.0459 - mean_squared_error: 0.0035 - val_loss: 0.0074 - val_mean_absolute_error: 0.0672 - val_mean_squared_error: 0.0074\n",
            "r2_score 0.5788533132791686\n",
            "pearson_score 0.767912378432488\n",
            "Epoch 107/200\n",
            "96/96 [==============================] - 0s 4ms/step - loss: 0.0036 - mean_absolute_error: 0.0472 - mean_squared_error: 0.0036 - val_loss: 0.0074 - val_mean_absolute_error: 0.0669 - val_mean_squared_error: 0.0074\n",
            "r2_score 0.5794590152268105\n",
            "pearson_score 0.763027839914938\n",
            "Epoch 108/200\n",
            "96/96 [==============================] - 0s 4ms/step - loss: 0.0034 - mean_absolute_error: 0.0452 - mean_squared_error: 0.0034 - val_loss: 0.0075 - val_mean_absolute_error: 0.0674 - val_mean_squared_error: 0.0075\n",
            "r2_score 0.5736550809374898\n",
            "pearson_score 0.7625394969396166\n",
            "Epoch 109/200\n",
            "96/96 [==============================] - 0s 4ms/step - loss: 0.0033 - mean_absolute_error: 0.0451 - mean_squared_error: 0.0033 - val_loss: 0.0075 - val_mean_absolute_error: 0.0674 - val_mean_squared_error: 0.0075\n",
            "r2_score 0.575527890881789\n",
            "pearson_score 0.762988033325127\n",
            "Epoch 110/200\n",
            "96/96 [==============================] - 0s 4ms/step - loss: 0.0032 - mean_absolute_error: 0.0440 - mean_squared_error: 0.0032 - val_loss: 0.0078 - val_mean_absolute_error: 0.0686 - val_mean_squared_error: 0.0078\n",
            "r2_score 0.5590879608451526\n",
            "pearson_score 0.7617285518331878\n",
            "Epoch 111/200\n",
            "96/96 [==============================] - 0s 4ms/step - loss: 0.0033 - mean_absolute_error: 0.0446 - mean_squared_error: 0.0033 - val_loss: 0.0075 - val_mean_absolute_error: 0.0674 - val_mean_squared_error: 0.0075\n",
            "r2_score 0.5781819696883079\n",
            "pearson_score 0.7630402282024653\n",
            "Epoch 112/200\n",
            "96/96 [==============================] - 0s 4ms/step - loss: 0.0033 - mean_absolute_error: 0.0449 - mean_squared_error: 0.0033 - val_loss: 0.0075 - val_mean_absolute_error: 0.0674 - val_mean_squared_error: 0.0075\n",
            "r2_score 0.5745427973667013\n",
            "pearson_score 0.7642738299425009\n",
            "Epoch 113/200\n",
            "96/96 [==============================] - 0s 4ms/step - loss: 0.0033 - mean_absolute_error: 0.0445 - mean_squared_error: 0.0033 - val_loss: 0.0075 - val_mean_absolute_error: 0.0673 - val_mean_squared_error: 0.0075\n",
            "r2_score 0.5758862193782938\n",
            "pearson_score 0.7641982143356612\n",
            "Epoch 114/200\n",
            "96/96 [==============================] - 0s 4ms/step - loss: 0.0033 - mean_absolute_error: 0.0443 - mean_squared_error: 0.0033 - val_loss: 0.0075 - val_mean_absolute_error: 0.0675 - val_mean_squared_error: 0.0075\n",
            "r2_score 0.5782564277285082\n",
            "pearson_score 0.7637721514884441\n",
            "Epoch 115/200\n",
            "96/96 [==============================] - 0s 4ms/step - loss: 0.0034 - mean_absolute_error: 0.0453 - mean_squared_error: 0.0034 - val_loss: 0.0073 - val_mean_absolute_error: 0.0666 - val_mean_squared_error: 0.0073\n",
            "r2_score 0.5861644765858915\n",
            "pearson_score 0.7659580517541473\n",
            "Epoch 116/200\n",
            "96/96 [==============================] - 0s 4ms/step - loss: 0.0033 - mean_absolute_error: 0.0452 - mean_squared_error: 0.0033 - val_loss: 0.0076 - val_mean_absolute_error: 0.0678 - val_mean_squared_error: 0.0076\n",
            "r2_score 0.569287575613952\n",
            "pearson_score 0.7636282346557545\n",
            "Epoch 117/200\n",
            "96/96 [==============================] - 0s 4ms/step - loss: 0.0033 - mean_absolute_error: 0.0454 - mean_squared_error: 0.0033 - val_loss: 0.0076 - val_mean_absolute_error: 0.0675 - val_mean_squared_error: 0.0076\n",
            "r2_score 0.5727495884700082\n",
            "pearson_score 0.7630277734187009\n",
            "Epoch 118/200\n",
            "96/96 [==============================] - 0s 4ms/step - loss: 0.0033 - mean_absolute_error: 0.0449 - mean_squared_error: 0.0033 - val_loss: 0.0074 - val_mean_absolute_error: 0.0672 - val_mean_squared_error: 0.0074\n",
            "r2_score 0.5804150983060102\n",
            "pearson_score 0.7661771798315223\n",
            "Epoch 119/200\n",
            "96/96 [==============================] - 0s 4ms/step - loss: 0.0032 - mean_absolute_error: 0.0441 - mean_squared_error: 0.0032 - val_loss: 0.0077 - val_mean_absolute_error: 0.0679 - val_mean_squared_error: 0.0077\n",
            "r2_score 0.5650514838617018\n",
            "pearson_score 0.7566540180256884\n",
            "Epoch 120/200\n",
            "96/96 [==============================] - 0s 4ms/step - loss: 0.0033 - mean_absolute_error: 0.0446 - mean_squared_error: 0.0033 - val_loss: 0.0075 - val_mean_absolute_error: 0.0673 - val_mean_squared_error: 0.0075\n",
            "r2_score 0.5766058660673228\n",
            "pearson_score 0.7674267358619448\n",
            "Epoch 121/200\n",
            "96/96 [==============================] - 0s 4ms/step - loss: 0.0032 - mean_absolute_error: 0.0441 - mean_squared_error: 0.0032 - val_loss: 0.0076 - val_mean_absolute_error: 0.0680 - val_mean_squared_error: 0.0076\n",
            "r2_score 0.5711211626549005\n",
            "pearson_score 0.7618487734886074\n",
            "Epoch 122/200\n",
            "96/96 [==============================] - 0s 4ms/step - loss: 0.0033 - mean_absolute_error: 0.0451 - mean_squared_error: 0.0033 - val_loss: 0.0075 - val_mean_absolute_error: 0.0672 - val_mean_squared_error: 0.0075\n",
            "r2_score 0.575443105359706\n",
            "pearson_score 0.7646384582734047\n",
            "Epoch 123/200\n",
            "96/96 [==============================] - 0s 4ms/step - loss: 0.0033 - mean_absolute_error: 0.0447 - mean_squared_error: 0.0033 - val_loss: 0.0076 - val_mean_absolute_error: 0.0679 - val_mean_squared_error: 0.0076\n",
            "r2_score 0.5714496071267439\n",
            "pearson_score 0.7608818696806131\n",
            "Epoch 124/200\n",
            "96/96 [==============================] - 0s 4ms/step - loss: 0.0032 - mean_absolute_error: 0.0439 - mean_squared_error: 0.0032 - val_loss: 0.0074 - val_mean_absolute_error: 0.0668 - val_mean_squared_error: 0.0074\n",
            "r2_score 0.5822292323567606\n",
            "pearson_score 0.7694792994646957\n",
            "Epoch 125/200\n",
            "96/96 [==============================] - 0s 4ms/step - loss: 0.0031 - mean_absolute_error: 0.0430 - mean_squared_error: 0.0031 - val_loss: 0.0074 - val_mean_absolute_error: 0.0671 - val_mean_squared_error: 0.0074\n",
            "r2_score 0.580948591420878\n",
            "pearson_score 0.764878178540471\n",
            "Epoch 126/200\n",
            "96/96 [==============================] - 0s 4ms/step - loss: 0.0032 - mean_absolute_error: 0.0434 - mean_squared_error: 0.0032 - val_loss: 0.0074 - val_mean_absolute_error: 0.0667 - val_mean_squared_error: 0.0074\n",
            "r2_score 0.5811885759536563\n",
            "pearson_score 0.7661018133494086\n",
            "Epoch 127/200\n",
            "96/96 [==============================] - 0s 4ms/step - loss: 0.0034 - mean_absolute_error: 0.0449 - mean_squared_error: 0.0034 - val_loss: 0.0075 - val_mean_absolute_error: 0.0677 - val_mean_squared_error: 0.0075\n",
            "r2_score 0.5737278319146347\n",
            "pearson_score 0.7626288351166038\n",
            "Epoch 128/200\n",
            "96/96 [==============================] - 0s 4ms/step - loss: 0.0031 - mean_absolute_error: 0.0431 - mean_squared_error: 0.0031 - val_loss: 0.0074 - val_mean_absolute_error: 0.0668 - val_mean_squared_error: 0.0074\n",
            "r2_score 0.5806975306083269\n",
            "pearson_score 0.7647766014347062\n",
            "Epoch 129/200\n",
            "96/96 [==============================] - 0s 4ms/step - loss: 0.0031 - mean_absolute_error: 0.0435 - mean_squared_error: 0.0031 - val_loss: 0.0076 - val_mean_absolute_error: 0.0677 - val_mean_squared_error: 0.0076\n",
            "r2_score 0.5712567256383877\n",
            "pearson_score 0.7570324725996805\n",
            "Epoch 130/200\n",
            "96/96 [==============================] - 0s 4ms/step - loss: 0.0031 - mean_absolute_error: 0.0434 - mean_squared_error: 0.0031 - val_loss: 0.0076 - val_mean_absolute_error: 0.0675 - val_mean_squared_error: 0.0076\n",
            "r2_score 0.5727237063462297\n",
            "pearson_score 0.7613965221780884\n",
            "Epoch 131/200\n",
            "96/96 [==============================] - 0s 4ms/step - loss: 0.0031 - mean_absolute_error: 0.0436 - mean_squared_error: 0.0031 - val_loss: 0.0076 - val_mean_absolute_error: 0.0677 - val_mean_squared_error: 0.0076\n",
            "r2_score 0.5710317310185012\n",
            "pearson_score 0.7636706482961592\n",
            "Epoch 132/200\n",
            "96/96 [==============================] - 0s 4ms/step - loss: 0.0030 - mean_absolute_error: 0.0420 - mean_squared_error: 0.0030 - val_loss: 0.0075 - val_mean_absolute_error: 0.0674 - val_mean_squared_error: 0.0075\n",
            "r2_score 0.5763788682874305\n",
            "pearson_score 0.7636726734803844\n",
            "Epoch 133/200\n",
            "96/96 [==============================] - 0s 4ms/step - loss: 0.0030 - mean_absolute_error: 0.0422 - mean_squared_error: 0.0030 - val_loss: 0.0074 - val_mean_absolute_error: 0.0671 - val_mean_squared_error: 0.0074\n",
            "r2_score 0.57879485558796\n",
            "pearson_score 0.7644961301341393\n",
            "Epoch 134/200\n",
            "96/96 [==============================] - 0s 4ms/step - loss: 0.0031 - mean_absolute_error: 0.0435 - mean_squared_error: 0.0031 - val_loss: 0.0075 - val_mean_absolute_error: 0.0675 - val_mean_squared_error: 0.0075\n",
            "r2_score 0.5758777790433218\n",
            "pearson_score 0.7600413270955898\n",
            "Epoch 135/200\n",
            "96/96 [==============================] - 0s 4ms/step - loss: 0.0030 - mean_absolute_error: 0.0429 - mean_squared_error: 0.0030 - val_loss: 0.0076 - val_mean_absolute_error: 0.0675 - val_mean_squared_error: 0.0075\n",
            "r2_score 0.572916853611378\n",
            "pearson_score 0.7602365182619392\n",
            "Epoch 136/200\n",
            "96/96 [==============================] - 0s 4ms/step - loss: 0.0030 - mean_absolute_error: 0.0429 - mean_squared_error: 0.0030 - val_loss: 0.0075 - val_mean_absolute_error: 0.0671 - val_mean_squared_error: 0.0075\n",
            "r2_score 0.576908471910911\n",
            "pearson_score 0.7621505066863976\n",
            "Epoch 137/200\n",
            "96/96 [==============================] - 0s 4ms/step - loss: 0.0031 - mean_absolute_error: 0.0432 - mean_squared_error: 0.0031 - val_loss: 0.0074 - val_mean_absolute_error: 0.0673 - val_mean_squared_error: 0.0074\n",
            "r2_score 0.5803832155834501\n",
            "pearson_score 0.7642075708034421\n",
            "Epoch 138/200\n",
            "96/96 [==============================] - 0s 4ms/step - loss: 0.0031 - mean_absolute_error: 0.0431 - mean_squared_error: 0.0031 - val_loss: 0.0076 - val_mean_absolute_error: 0.0680 - val_mean_squared_error: 0.0076\n",
            "r2_score 0.5710240333890758\n",
            "pearson_score 0.7595404023426529\n",
            "Epoch 139/200\n",
            "96/96 [==============================] - 0s 4ms/step - loss: 0.0029 - mean_absolute_error: 0.0418 - mean_squared_error: 0.0029 - val_loss: 0.0078 - val_mean_absolute_error: 0.0684 - val_mean_squared_error: 0.0078\n",
            "r2_score 0.5598253982841233\n",
            "pearson_score 0.7606700550231142\n",
            "Epoch 140/200\n",
            "96/96 [==============================] - 0s 4ms/step - loss: 0.0030 - mean_absolute_error: 0.0426 - mean_squared_error: 0.0030 - val_loss: 0.0076 - val_mean_absolute_error: 0.0675 - val_mean_squared_error: 0.0076\n",
            "r2_score 0.5694548521791472\n",
            "pearson_score 0.7602503561890069\n",
            "Epoch 141/200\n",
            "96/96 [==============================] - 0s 4ms/step - loss: 0.0029 - mean_absolute_error: 0.0413 - mean_squared_error: 0.0029 - val_loss: 0.0076 - val_mean_absolute_error: 0.0677 - val_mean_squared_error: 0.0075\n",
            "r2_score 0.5729920181810498\n",
            "pearson_score 0.7597307681969728\n",
            "Epoch 142/200\n",
            "96/96 [==============================] - 0s 4ms/step - loss: 0.0030 - mean_absolute_error: 0.0425 - mean_squared_error: 0.0030 - val_loss: 0.0075 - val_mean_absolute_error: 0.0676 - val_mean_squared_error: 0.0075\n",
            "r2_score 0.5734607068779007\n",
            "pearson_score 0.7613585205758121\n",
            "Epoch 143/200\n",
            "96/96 [==============================] - 0s 4ms/step - loss: 0.0030 - mean_absolute_error: 0.0426 - mean_squared_error: 0.0030 - val_loss: 0.0075 - val_mean_absolute_error: 0.0674 - val_mean_squared_error: 0.0075\n",
            "r2_score 0.5747584087988493\n",
            "pearson_score 0.7637529798518143\n",
            "Epoch 144/200\n",
            "96/96 [==============================] - 0s 4ms/step - loss: 0.0030 - mean_absolute_error: 0.0426 - mean_squared_error: 0.0030 - val_loss: 0.0075 - val_mean_absolute_error: 0.0675 - val_mean_squared_error: 0.0075\n",
            "r2_score 0.5734372566580479\n",
            "pearson_score 0.7605236927562616\n",
            "Epoch 145/200\n",
            "96/96 [==============================] - 0s 4ms/step - loss: 0.0030 - mean_absolute_error: 0.0425 - mean_squared_error: 0.0030 - val_loss: 0.0076 - val_mean_absolute_error: 0.0680 - val_mean_squared_error: 0.0076\n",
            "r2_score 0.5690336005157075\n",
            "pearson_score 0.7616912391681677\n",
            "Epoch 146/200\n",
            "96/96 [==============================] - 0s 4ms/step - loss: 0.0030 - mean_absolute_error: 0.0426 - mean_squared_error: 0.0030 - val_loss: 0.0076 - val_mean_absolute_error: 0.0684 - val_mean_squared_error: 0.0076\n",
            "r2_score 0.5678687897352028\n",
            "pearson_score 0.7608544989750663\n",
            "Epoch 147/200\n",
            "96/96 [==============================] - 0s 5ms/step - loss: 0.0030 - mean_absolute_error: 0.0424 - mean_squared_error: 0.0030 - val_loss: 0.0076 - val_mean_absolute_error: 0.0677 - val_mean_squared_error: 0.0076\n",
            "r2_score 0.5715148669009065\n",
            "pearson_score 0.7603156632119086\n",
            "Epoch 148/200\n",
            "96/96 [==============================] - 0s 4ms/step - loss: 0.0029 - mean_absolute_error: 0.0415 - mean_squared_error: 0.0029 - val_loss: 0.0077 - val_mean_absolute_error: 0.0679 - val_mean_squared_error: 0.0077\n",
            "r2_score 0.5644703476889504\n",
            "pearson_score 0.7615718876419001\n",
            "Epoch 149/200\n",
            "96/96 [==============================] - 0s 4ms/step - loss: 0.0029 - mean_absolute_error: 0.0419 - mean_squared_error: 0.0029 - val_loss: 0.0077 - val_mean_absolute_error: 0.0680 - val_mean_squared_error: 0.0077\n",
            "r2_score 0.5656108508023029\n",
            "pearson_score 0.7565972721225048\n",
            "Epoch 150/200\n",
            "96/96 [==============================] - 0s 4ms/step - loss: 0.0030 - mean_absolute_error: 0.0430 - mean_squared_error: 0.0030 - val_loss: 0.0075 - val_mean_absolute_error: 0.0673 - val_mean_squared_error: 0.0075\n",
            "r2_score 0.5760932444463366\n",
            "pearson_score 0.7618510081639911\n",
            "Epoch 151/200\n",
            "96/96 [==============================] - 0s 4ms/step - loss: 0.0028 - mean_absolute_error: 0.0412 - mean_squared_error: 0.0028 - val_loss: 0.0076 - val_mean_absolute_error: 0.0675 - val_mean_squared_error: 0.0076\n",
            "r2_score 0.5691124151956568\n",
            "pearson_score 0.7560015401052997\n",
            "Epoch 152/200\n",
            "96/96 [==============================] - 0s 4ms/step - loss: 0.0029 - mean_absolute_error: 0.0417 - mean_squared_error: 0.0029 - val_loss: 0.0077 - val_mean_absolute_error: 0.0684 - val_mean_squared_error: 0.0077\n",
            "r2_score 0.5629981634782592\n",
            "pearson_score 0.7579658879985172\n",
            "Epoch 153/200\n",
            "96/96 [==============================] - 0s 4ms/step - loss: 0.0029 - mean_absolute_error: 0.0418 - mean_squared_error: 0.0029 - val_loss: 0.0076 - val_mean_absolute_error: 0.0675 - val_mean_squared_error: 0.0076\n",
            "r2_score 0.5719563712118306\n",
            "pearson_score 0.7570628128460593\n",
            "Epoch 154/200\n",
            "96/96 [==============================] - 0s 4ms/step - loss: 0.0030 - mean_absolute_error: 0.0423 - mean_squared_error: 0.0030 - val_loss: 0.0078 - val_mean_absolute_error: 0.0680 - val_mean_squared_error: 0.0078\n",
            "r2_score 0.5608519411145269\n",
            "pearson_score 0.7590290027711\n",
            "Epoch 155/200\n",
            "96/96 [==============================] - 0s 4ms/step - loss: 0.0029 - mean_absolute_error: 0.0416 - mean_squared_error: 0.0029 - val_loss: 0.0075 - val_mean_absolute_error: 0.0671 - val_mean_squared_error: 0.0075\n",
            "r2_score 0.5773781904565485\n",
            "pearson_score 0.7648920813167763\n",
            "Epoch 156/200\n",
            "96/96 [==============================] - 0s 4ms/step - loss: 0.0029 - mean_absolute_error: 0.0414 - mean_squared_error: 0.0029 - val_loss: 0.0074 - val_mean_absolute_error: 0.0667 - val_mean_squared_error: 0.0074\n",
            "r2_score 0.5817295319096155\n",
            "pearson_score 0.763597714727551\n",
            "Epoch 157/200\n",
            "96/96 [==============================] - 0s 4ms/step - loss: 0.0028 - mean_absolute_error: 0.0410 - mean_squared_error: 0.0028 - val_loss: 0.0076 - val_mean_absolute_error: 0.0678 - val_mean_squared_error: 0.0076\n",
            "r2_score 0.570057332919945\n",
            "pearson_score 0.7578997214283083\n",
            "Epoch 158/200\n",
            "96/96 [==============================] - 0s 4ms/step - loss: 0.0029 - mean_absolute_error: 0.0416 - mean_squared_error: 0.0029 - val_loss: 0.0076 - val_mean_absolute_error: 0.0679 - val_mean_squared_error: 0.0076\n",
            "r2_score 0.5723116496494052\n",
            "pearson_score 0.7575931275356916\n",
            "Epoch 159/200\n",
            "96/96 [==============================] - 0s 4ms/step - loss: 0.0028 - mean_absolute_error: 0.0415 - mean_squared_error: 0.0028 - val_loss: 0.0077 - val_mean_absolute_error: 0.0682 - val_mean_squared_error: 0.0077\n",
            "r2_score 0.5650855825325222\n",
            "pearson_score 0.7587016314370754\n",
            "Epoch 160/200\n",
            "96/96 [==============================] - 0s 4ms/step - loss: 0.0027 - mean_absolute_error: 0.0405 - mean_squared_error: 0.0027 - val_loss: 0.0080 - val_mean_absolute_error: 0.0692 - val_mean_squared_error: 0.0080\n",
            "r2_score 0.5499757373968125\n",
            "pearson_score 0.7567723018559586\n",
            "Epoch 161/200\n",
            "96/96 [==============================] - 0s 4ms/step - loss: 0.0028 - mean_absolute_error: 0.0411 - mean_squared_error: 0.0028 - val_loss: 0.0076 - val_mean_absolute_error: 0.0682 - val_mean_squared_error: 0.0076\n",
            "r2_score 0.5692113748909913\n",
            "pearson_score 0.7582074898898324\n",
            "Epoch 162/200\n",
            "96/96 [==============================] - 0s 4ms/step - loss: 0.0027 - mean_absolute_error: 0.0402 - mean_squared_error: 0.0027 - val_loss: 0.0075 - val_mean_absolute_error: 0.0673 - val_mean_squared_error: 0.0075\n",
            "r2_score 0.5743010743548798\n",
            "pearson_score 0.7593029200226398\n",
            "Epoch 163/200\n",
            "96/96 [==============================] - 0s 4ms/step - loss: 0.0028 - mean_absolute_error: 0.0413 - mean_squared_error: 0.0028 - val_loss: 0.0076 - val_mean_absolute_error: 0.0681 - val_mean_squared_error: 0.0076\n",
            "r2_score 0.5716277856264869\n",
            "pearson_score 0.7588565487048404\n",
            "Epoch 164/200\n",
            "96/96 [==============================] - 0s 4ms/step - loss: 0.0029 - mean_absolute_error: 0.0418 - mean_squared_error: 0.0029 - val_loss: 0.0075 - val_mean_absolute_error: 0.0675 - val_mean_squared_error: 0.0075\n",
            "r2_score 0.5762591229379312\n",
            "pearson_score 0.7611197993302181\n",
            "Epoch 165/200\n",
            "96/96 [==============================] - 0s 4ms/step - loss: 0.0027 - mean_absolute_error: 0.0401 - mean_squared_error: 0.0027 - val_loss: 0.0075 - val_mean_absolute_error: 0.0678 - val_mean_squared_error: 0.0075\n",
            "r2_score 0.5757267050504911\n",
            "pearson_score 0.7644067362163128\n",
            "Epoch 166/200\n",
            "96/96 [==============================] - 0s 4ms/step - loss: 0.0027 - mean_absolute_error: 0.0406 - mean_squared_error: 0.0027 - val_loss: 0.0075 - val_mean_absolute_error: 0.0677 - val_mean_squared_error: 0.0075\n",
            "r2_score 0.5740048238575837\n",
            "pearson_score 0.760626202508389\n",
            "Epoch 167/200\n",
            "96/96 [==============================] - 0s 4ms/step - loss: 0.0027 - mean_absolute_error: 0.0407 - mean_squared_error: 0.0027 - val_loss: 0.0077 - val_mean_absolute_error: 0.0678 - val_mean_squared_error: 0.0076\n",
            "r2_score 0.5672835616622487\n",
            "pearson_score 0.7606098871905266\n",
            "Epoch 168/200\n",
            "96/96 [==============================] - 0s 4ms/step - loss: 0.0026 - mean_absolute_error: 0.0394 - mean_squared_error: 0.0026 - val_loss: 0.0078 - val_mean_absolute_error: 0.0690 - val_mean_squared_error: 0.0078\n",
            "r2_score 0.5583947459598593\n",
            "pearson_score 0.7603540598145901\n",
            "Epoch 169/200\n",
            "96/96 [==============================] - 0s 4ms/step - loss: 0.0027 - mean_absolute_error: 0.0407 - mean_squared_error: 0.0027 - val_loss: 0.0076 - val_mean_absolute_error: 0.0679 - val_mean_squared_error: 0.0076\n",
            "r2_score 0.568574897016374\n",
            "pearson_score 0.760429368658932\n",
            "Epoch 170/200\n",
            "96/96 [==============================] - 0s 4ms/step - loss: 0.0027 - mean_absolute_error: 0.0404 - mean_squared_error: 0.0027 - val_loss: 0.0077 - val_mean_absolute_error: 0.0687 - val_mean_squared_error: 0.0077\n",
            "r2_score 0.5620718255251447\n",
            "pearson_score 0.7521496660520232\n",
            "Epoch 171/200\n",
            "96/96 [==============================] - 0s 4ms/step - loss: 0.0027 - mean_absolute_error: 0.0403 - mean_squared_error: 0.0027 - val_loss: 0.0077 - val_mean_absolute_error: 0.0684 - val_mean_squared_error: 0.0077\n",
            "r2_score 0.5654902187648697\n",
            "pearson_score 0.7588293001306844\n",
            "Epoch 172/200\n",
            "96/96 [==============================] - 0s 4ms/step - loss: 0.0026 - mean_absolute_error: 0.0399 - mean_squared_error: 0.0026 - val_loss: 0.0076 - val_mean_absolute_error: 0.0676 - val_mean_squared_error: 0.0076\n",
            "r2_score 0.5714067137647745\n",
            "pearson_score 0.7598769882204954\n",
            "Epoch 173/200\n",
            "96/96 [==============================] - 0s 4ms/step - loss: 0.0027 - mean_absolute_error: 0.0399 - mean_squared_error: 0.0027 - val_loss: 0.0075 - val_mean_absolute_error: 0.0676 - val_mean_squared_error: 0.0075\n",
            "r2_score 0.5731713182695783\n",
            "pearson_score 0.7595597526483534\n",
            "Epoch 174/200\n",
            "96/96 [==============================] - 0s 4ms/step - loss: 0.0027 - mean_absolute_error: 0.0399 - mean_squared_error: 0.0027 - val_loss: 0.0079 - val_mean_absolute_error: 0.0686 - val_mean_squared_error: 0.0079\n",
            "r2_score 0.5543713536560128\n",
            "pearson_score 0.7581430018127783\n",
            "Epoch 175/200\n",
            "96/96 [==============================] - 0s 4ms/step - loss: 0.0027 - mean_absolute_error: 0.0404 - mean_squared_error: 0.0027 - val_loss: 0.0077 - val_mean_absolute_error: 0.0679 - val_mean_squared_error: 0.0077\n",
            "r2_score 0.5653232287681236\n",
            "pearson_score 0.7581802732797929\n",
            "Epoch 176/200\n",
            "96/96 [==============================] - 0s 5ms/step - loss: 0.0025 - mean_absolute_error: 0.0394 - mean_squared_error: 0.0025 - val_loss: 0.0077 - val_mean_absolute_error: 0.0681 - val_mean_squared_error: 0.0077\n",
            "r2_score 0.5640929030169919\n",
            "pearson_score 0.7566769425070682\n",
            "Epoch 177/200\n",
            "96/96 [==============================] - 0s 4ms/step - loss: 0.0027 - mean_absolute_error: 0.0405 - mean_squared_error: 0.0027 - val_loss: 0.0077 - val_mean_absolute_error: 0.0682 - val_mean_squared_error: 0.0077\n",
            "r2_score 0.5653464468903326\n",
            "pearson_score 0.7562991892908869\n",
            "Epoch 178/200\n",
            "96/96 [==============================] - 0s 4ms/step - loss: 0.0026 - mean_absolute_error: 0.0399 - mean_squared_error: 0.0026 - val_loss: 0.0077 - val_mean_absolute_error: 0.0683 - val_mean_squared_error: 0.0077\n",
            "r2_score 0.5619818661270986\n",
            "pearson_score 0.7549261740997307\n",
            "Epoch 179/200\n",
            "96/96 [==============================] - 0s 4ms/step - loss: 0.0026 - mean_absolute_error: 0.0394 - mean_squared_error: 0.0026 - val_loss: 0.0079 - val_mean_absolute_error: 0.0690 - val_mean_squared_error: 0.0079\n",
            "r2_score 0.5511453652042049\n",
            "pearson_score 0.7548192513406301\n",
            "Epoch 180/200\n",
            "96/96 [==============================] - 0s 4ms/step - loss: 0.0027 - mean_absolute_error: 0.0402 - mean_squared_error: 0.0027 - val_loss: 0.0077 - val_mean_absolute_error: 0.0680 - val_mean_squared_error: 0.0077\n",
            "r2_score 0.566692427671867\n",
            "pearson_score 0.7575560749412258\n",
            "Epoch 181/200\n",
            "96/96 [==============================] - 0s 4ms/step - loss: 0.0027 - mean_absolute_error: 0.0404 - mean_squared_error: 0.0027 - val_loss: 0.0078 - val_mean_absolute_error: 0.0688 - val_mean_squared_error: 0.0078\n",
            "r2_score 0.5613933920224143\n",
            "pearson_score 0.7532006026218584\n",
            "Epoch 182/200\n",
            "96/96 [==============================] - 0s 4ms/step - loss: 0.0025 - mean_absolute_error: 0.0392 - mean_squared_error: 0.0025 - val_loss: 0.0078 - val_mean_absolute_error: 0.0684 - val_mean_squared_error: 0.0078\n",
            "r2_score 0.5613305136542369\n",
            "pearson_score 0.7554830660018287\n",
            "Epoch 183/200\n",
            "96/96 [==============================] - 0s 4ms/step - loss: 0.0025 - mean_absolute_error: 0.0393 - mean_squared_error: 0.0025 - val_loss: 0.0078 - val_mean_absolute_error: 0.0688 - val_mean_squared_error: 0.0078\n",
            "r2_score 0.5597568152945739\n",
            "pearson_score 0.752056197417162\n",
            "Epoch 184/200\n",
            "96/96 [==============================] - 0s 4ms/step - loss: 0.0026 - mean_absolute_error: 0.0391 - mean_squared_error: 0.0026 - val_loss: 0.0078 - val_mean_absolute_error: 0.0687 - val_mean_squared_error: 0.0078\n",
            "r2_score 0.5615398396715623\n",
            "pearson_score 0.7521742169313111\n",
            "Epoch 185/200\n",
            "96/96 [==============================] - 0s 4ms/step - loss: 0.0026 - mean_absolute_error: 0.0395 - mean_squared_error: 0.0026 - val_loss: 0.0077 - val_mean_absolute_error: 0.0685 - val_mean_squared_error: 0.0077\n",
            "r2_score 0.5624632986437814\n",
            "pearson_score 0.756323424155182\n",
            "Epoch 186/200\n",
            "96/96 [==============================] - 0s 4ms/step - loss: 0.0027 - mean_absolute_error: 0.0400 - mean_squared_error: 0.0027 - val_loss: 0.0077 - val_mean_absolute_error: 0.0685 - val_mean_squared_error: 0.0077\n",
            "r2_score 0.5617362498475333\n",
            "pearson_score 0.7514999225548086\n",
            "Epoch 187/200\n",
            "96/96 [==============================] - 0s 4ms/step - loss: 0.0026 - mean_absolute_error: 0.0395 - mean_squared_error: 0.0026 - val_loss: 0.0079 - val_mean_absolute_error: 0.0693 - val_mean_squared_error: 0.0079\n",
            "r2_score 0.5523313599199022\n",
            "pearson_score 0.7505274944299021\n",
            "Epoch 188/200\n",
            "96/96 [==============================] - 0s 4ms/step - loss: 0.0026 - mean_absolute_error: 0.0389 - mean_squared_error: 0.0026 - val_loss: 0.0079 - val_mean_absolute_error: 0.0689 - val_mean_squared_error: 0.0079\n",
            "r2_score 0.5525621660849439\n",
            "pearson_score 0.7497062776825734\n",
            "Epoch 189/200\n",
            "96/96 [==============================] - 0s 4ms/step - loss: 0.0024 - mean_absolute_error: 0.0385 - mean_squared_error: 0.0024 - val_loss: 0.0077 - val_mean_absolute_error: 0.0686 - val_mean_squared_error: 0.0077\n",
            "r2_score 0.5641851952856426\n",
            "pearson_score 0.7530429172036184\n",
            "Epoch 190/200\n",
            "96/96 [==============================] - 0s 4ms/step - loss: 0.0025 - mean_absolute_error: 0.0388 - mean_squared_error: 0.0025 - val_loss: 0.0077 - val_mean_absolute_error: 0.0687 - val_mean_squared_error: 0.0077\n",
            "r2_score 0.5639564857228502\n",
            "pearson_score 0.7577430754205013\n",
            "Epoch 191/200\n",
            "96/96 [==============================] - 0s 4ms/step - loss: 0.0024 - mean_absolute_error: 0.0377 - mean_squared_error: 0.0024 - val_loss: 0.0077 - val_mean_absolute_error: 0.0681 - val_mean_squared_error: 0.0077\n",
            "r2_score 0.5652665282145445\n",
            "pearson_score 0.754530539743514\n",
            "Epoch 192/200\n",
            "96/96 [==============================] - 0s 4ms/step - loss: 0.0026 - mean_absolute_error: 0.0397 - mean_squared_error: 0.0026 - val_loss: 0.0078 - val_mean_absolute_error: 0.0685 - val_mean_squared_error: 0.0078\n",
            "r2_score 0.5601583050478565\n",
            "pearson_score 0.7560747714837437\n",
            "Epoch 193/200\n",
            "96/96 [==============================] - 0s 4ms/step - loss: 0.0025 - mean_absolute_error: 0.0387 - mean_squared_error: 0.0025 - val_loss: 0.0078 - val_mean_absolute_error: 0.0688 - val_mean_squared_error: 0.0078\n",
            "r2_score 0.5603971399836724\n",
            "pearson_score 0.7533468514223104\n",
            "Epoch 194/200\n",
            "96/96 [==============================] - 0s 4ms/step - loss: 0.0026 - mean_absolute_error: 0.0396 - mean_squared_error: 0.0026 - val_loss: 0.0078 - val_mean_absolute_error: 0.0687 - val_mean_squared_error: 0.0078\n",
            "r2_score 0.5602946582114913\n",
            "pearson_score 0.7524880616280243\n",
            "Epoch 195/200\n",
            "96/96 [==============================] - 0s 4ms/step - loss: 0.0025 - mean_absolute_error: 0.0391 - mean_squared_error: 0.0025 - val_loss: 0.0079 - val_mean_absolute_error: 0.0694 - val_mean_squared_error: 0.0079\n",
            "r2_score 0.5525025599948892\n",
            "pearson_score 0.7550193417290868\n",
            "Epoch 196/200\n",
            "96/96 [==============================] - 0s 4ms/step - loss: 0.0026 - mean_absolute_error: 0.0397 - mean_squared_error: 0.0026 - val_loss: 0.0078 - val_mean_absolute_error: 0.0686 - val_mean_squared_error: 0.0077\n",
            "r2_score 0.5616536118664537\n",
            "pearson_score 0.7546491775798696\n",
            "Epoch 197/200\n",
            "96/96 [==============================] - 0s 4ms/step - loss: 0.0024 - mean_absolute_error: 0.0382 - mean_squared_error: 0.0024 - val_loss: 0.0077 - val_mean_absolute_error: 0.0684 - val_mean_squared_error: 0.0077\n",
            "r2_score 0.5661040087374278\n",
            "pearson_score 0.7546208428888137\n",
            "Epoch 198/200\n",
            "96/96 [==============================] - 0s 4ms/step - loss: 0.0025 - mean_absolute_error: 0.0383 - mean_squared_error: 0.0025 - val_loss: 0.0077 - val_mean_absolute_error: 0.0685 - val_mean_squared_error: 0.0077\n",
            "r2_score 0.5625447846598332\n",
            "pearson_score 0.7560597806018019\n",
            "Epoch 199/200\n",
            "96/96 [==============================] - 0s 4ms/step - loss: 0.0025 - mean_absolute_error: 0.0385 - mean_squared_error: 0.0025 - val_loss: 0.0078 - val_mean_absolute_error: 0.0689 - val_mean_squared_error: 0.0078\n",
            "r2_score 0.5575081329273778\n",
            "pearson_score 0.754695083868437\n",
            "Epoch 200/200\n",
            "96/96 [==============================] - 0s 4ms/step - loss: 0.0025 - mean_absolute_error: 0.0388 - mean_squared_error: 0.0025 - val_loss: 0.0079 - val_mean_absolute_error: 0.0693 - val_mean_squared_error: 0.0079\n",
            "r2_score 0.5531195802932016\n",
            "pearson_score 0.7518649922510274\n",
            "KNN Done!\n"
          ],
          "name": "stdout"
        },
        {
          "output_type": "stream",
          "text": [
            "/usr/local/lib/python3.7/dist-packages/sklearn/utils/validation.py:760: DataConversionWarning: A column-vector y was passed when a 1d array was expected. Please change the shape of y to (n_samples, ), for example using ravel().\n",
            "  y = column_or_1d(y, warn=True)\n"
          ],
          "name": "stderr"
        },
        {
          "output_type": "stream",
          "text": [
            "AB Done!\n"
          ],
          "name": "stdout"
        },
        {
          "output_type": "stream",
          "text": [
            "/usr/local/lib/python3.7/dist-packages/sklearn/utils/validation.py:760: DataConversionWarning: A column-vector y was passed when a 1d array was expected. Please change the shape of y to (n_samples, ), for example using ravel().\n",
            "  y = column_or_1d(y, warn=True)\n"
          ],
          "name": "stderr"
        },
        {
          "output_type": "stream",
          "text": [
            "KS Done!\n"
          ],
          "name": "stdout"
        },
        {
          "output_type": "stream",
          "text": [
            "/usr/local/lib/python3.7/dist-packages/sklearn/ensemble/_bagging.py:399: DataConversionWarning: A column-vector y was passed when a 1d array was expected. Please change the shape of y to (n_samples, ), for example using ravel().\n",
            "  return column_or_1d(y, warn=True)\n"
          ],
          "name": "stderr"
        },
        {
          "output_type": "stream",
          "text": [
            "BR Done!\n"
          ],
          "name": "stdout"
        },
        {
          "output_type": "stream",
          "text": [
            "/usr/local/lib/python3.7/dist-packages/sklearn/ensemble/_bagging.py:399: DataConversionWarning: A column-vector y was passed when a 1d array was expected. Please change the shape of y to (n_samples, ), for example using ravel().\n",
            "  return column_or_1d(y, warn=True)\n"
          ],
          "name": "stderr"
        },
        {
          "output_type": "stream",
          "text": [
            "BG Done!\n"
          ],
          "name": "stdout"
        },
        {
          "output_type": "stream",
          "text": [
            "/usr/local/lib/python3.7/dist-packages/sklearn/ensemble/_gb.py:1454: DataConversionWarning: A column-vector y was passed when a 1d array was expected. Please change the shape of y to (n_samples, ), for example using ravel().\n",
            "  y = column_or_1d(y, warn=True)\n"
          ],
          "name": "stderr"
        },
        {
          "output_type": "stream",
          "text": [
            "KGBR Done!\n",
            "Training Completed !!\n"
          ],
          "name": "stdout"
        }
      ]
    },
    {
      "cell_type": "markdown",
      "metadata": {
        "id": "bfHeJKVHUkuU"
      },
      "source": [
        "# Stacking \n",
        "- Adaptive Boost with KNN\n",
        "- Adaptive Boost with Random Forest\n",
        "- KNN"
      ]
    },
    {
      "cell_type": "code",
      "metadata": {
        "id": "5ZirnhSX_mpm",
        "colab": {
          "base_uri": "https://localhost:8080/"
        },
        "outputId": "b259c343-1cea-4463-f868-b197fe856055"
      },
      "source": [
        "y_pred1 = m.predict(x_test,1)\n",
        "scores(y_test,y_pred1)"
      ],
      "execution_count": null,
      "outputs": [
        {
          "output_type": "stream",
          "text": [
            "Pearson Score:  0.7567822855304784\n",
            "R2_Score:  0.5719678228960376\n",
            "Spearmanr Score:  0.712417274154621\n",
            "Mean Squared Error(MSE):  0.006927733072269649\n",
            "Mean Absolute Error(MAE):  0.06442424172049796\n"
          ],
          "name": "stdout"
        }
      ]
    },
    {
      "cell_type": "markdown",
      "metadata": {
        "id": "TOEIurwuU57U"
      },
      "source": [
        "# Staking\n",
        "- Adaptive Boost with KNN\n",
        "- Bagging Regressor with KNN\n",
        "- Gradient Boosting Regressor"
      ]
    },
    {
      "cell_type": "code",
      "metadata": {
        "id": "mDrAc3qr_qbg",
        "colab": {
          "base_uri": "https://localhost:8080/"
        },
        "outputId": "d3cfcd23-ce73-40ce-ef59-e1078f4e72fc"
      },
      "source": [
        "y_pred2 = m.predict(x_test,2)\n",
        "scores(y_test,y_pred2)"
      ],
      "execution_count": null,
      "outputs": [
        {
          "output_type": "stream",
          "text": [
            "Pearson Score:  0.756939434523771\n",
            "R2_Score:  0.5724597122312964\n",
            "Spearmanr Score:  0.7124594775669667\n",
            "Mean Squared Error(MSE):  0.006919771806275992\n",
            "Mean Absolute Error(MAE):  0.06462649866140237\n"
          ],
          "name": "stdout"
        }
      ]
    },
    {
      "cell_type": "markdown",
      "metadata": {
        "id": "Oc6AqPwIVXo-"
      },
      "source": [
        "# Staking\n",
        "- Adaptive Boost with KNN\n",
        "- Bagging Regressor with KNN\n",
        "- Gradient Boosting Regressor\n",
        "- Adaptive Boost with Random Forest"
      ]
    },
    {
      "cell_type": "code",
      "metadata": {
        "id": "5KLxv6O1_s4Q",
        "colab": {
          "base_uri": "https://localhost:8080/"
        },
        "outputId": "80b9f5f4-571c-46e7-de18-be90793dd8c8"
      },
      "source": [
        "y_pred3 = m.predict(x_test,3)\n",
        "scores(y_test,y_pred3)"
      ],
      "execution_count": null,
      "outputs": [
        {
          "output_type": "stream",
          "text": [
            "Pearson Score:  0.7573957371896254\n",
            "R2_Score:  0.5730372498708077\n",
            "Spearmanr Score:  0.7128894418540214\n",
            "Mean Squared Error(MSE):  0.006910424316017681\n",
            "Mean Absolute Error(MAE):  0.06461969498850535\n"
          ],
          "name": "stdout"
        }
      ]
    },
    {
      "cell_type": "markdown",
      "metadata": {
        "id": "4GHfWz6qVe8w"
      },
      "source": [
        "# Staking\n",
        "- Adaptive Boost with KNN\n",
        "- Bagging Regressor with KNN\n",
        "- Gradient Boosting Regressor\n",
        "- KNN\n"
      ]
    },
    {
      "cell_type": "code",
      "metadata": {
        "id": "l8q2JcUC_uW9",
        "colab": {
          "base_uri": "https://localhost:8080/"
        },
        "outputId": "11040320-62af-490b-9b2a-db2502865aa0"
      },
      "source": [
        "y_pred4 = m.predict(x_test,4)\n",
        "scores(y_test,y_pred4)"
      ],
      "execution_count": null,
      "outputs": [
        {
          "output_type": "stream",
          "text": [
            "Pearson Score:  0.7592998917028986\n",
            "R2_Score:  0.5761099999086139\n",
            "Spearmanr Score:  0.7162472396617339\n",
            "Mean Squared Error(MSE):  0.006860691624882741\n",
            "Mean Absolute Error(MAE):  0.06419100296934377\n"
          ],
          "name": "stdout"
        }
      ]
    },
    {
      "cell_type": "markdown",
      "metadata": {
        "id": "Dmz6CBFdVi8Q"
      },
      "source": [
        "# Staking\n",
        "- Adaptive Boost with KNN\n",
        "- Bagging Regressor with KNN\n",
        "- Gradient Boosting Regressor\n",
        "- Adaptive Boost with Random Forest\n",
        "- KNN"
      ]
    },
    {
      "cell_type": "code",
      "metadata": {
        "id": "7eWJICfh_v29",
        "colab": {
          "base_uri": "https://localhost:8080/"
        },
        "outputId": "d425d0ea-d046-4a9c-9503-f66d545b66f2"
      },
      "source": [
        "y_pred5 = m.predict(x_test,5)\n",
        "scores(y_test,y_pred5)"
      ],
      "execution_count": null,
      "outputs": [
        {
          "output_type": "stream",
          "text": [
            "Pearson Score:  0.7595911109829413\n",
            "R2_Score:  0.5764600465890342\n",
            "Spearmanr Score:  0.7162903769500675\n",
            "Mean Squared Error(MSE):  0.006855026092956628\n",
            "Mean Absolute Error(MAE):  0.06419046851774693\n"
          ],
          "name": "stdout"
        }
      ]
    },
    {
      "cell_type": "markdown",
      "metadata": {
        "id": "yw9MGkDHVpoq"
      },
      "source": [
        "# Staking\n",
        "- Adaptive Boost with KNN\n",
        "- Bagging Regressor with KNN\n",
        "- Gradient Boosting Regressor\n",
        "- Adaptive Boost with Random Forest\n",
        "- KNN\n",
        "- Bagging Regressor with Random Forest"
      ]
    },
    {
      "cell_type": "code",
      "metadata": {
        "id": "Rf0GwA5t_xCI",
        "colab": {
          "base_uri": "https://localhost:8080/"
        },
        "outputId": "5160821c-1e92-4d18-b70c-ecd7b2850eb3"
      },
      "source": [
        "y_pred6 = m.predict(x_test,6)\n",
        "scores(y_test,y_pred6)"
      ],
      "execution_count": null,
      "outputs": [
        {
          "output_type": "stream",
          "text": [
            "Pearson Score:  0.7604126312646652\n",
            "R2_Score:  0.5776424059331327\n",
            "Spearmanr Score:  0.7182688554884902\n",
            "Mean Squared Error(MSE):  0.006835889517788757\n",
            "Mean Absolute Error(MAE):  0.06401408480164734\n"
          ],
          "name": "stdout"
        }
      ]
    },
    {
      "cell_type": "code",
      "metadata": {
        "id": "BLs6zkFRYrA6"
      },
      "source": [
        "import statistics"
      ],
      "execution_count": null,
      "outputs": []
    },
    {
      "cell_type": "code",
      "metadata": {
        "id": "_6IWy7fqb9Qm"
      },
      "source": [
        "import numpy as np\n",
        "from sklearn.metrics import r2_score\n",
        "from scipy.stats import pearsonr,spearmanr\n",
        "from sklearn.metrics import mean_squared_error,mean_absolute_error\n",
        "\n"
      ],
      "execution_count": null,
      "outputs": []
    },
    {
      "cell_type": "markdown",
      "metadata": {
        "id": "TwxC8X-tVul9"
      },
      "source": [
        "# Mean Stacking\n",
        "- Adaptive Boost\n",
        "- Bagging Regressor \n",
        "- Gradient Boosting Regressor\n",
        "- KNN"
      ]
    },
    {
      "cell_type": "code",
      "metadata": {
        "colab": {
          "base_uri": "https://localhost:8080/"
        },
        "id": "KTM0PPIkX4eI",
        "outputId": "4be9c34b-5cd5-48e2-ef1b-e53242a86f07"
      },
      "source": [
        "yp1 = m.modelAB.predict(x_test)\n",
        "yp2 = m.modeKGBR.predict(x_test)\n",
        "yp3 = m.modeBR.predict(x_test)\n",
        "yp4 = m.modelKNN.predict(x_test)\n",
        "\n",
        "Y_Pred_final=[]\n",
        "for i in range(len(yp1)):\n",
        "  tmp=[]\n",
        "  tmp.append(yp1[i])\n",
        "  tmp.append(yp2[i])\n",
        "  tmp.append(yp3[i])\n",
        "  tmp.append(yp4[i][0])\n",
        "\n",
        "  tmp=[float(x) for x in tmp]\n",
        "  #print(tmp)\n",
        "  Y_Pred_final.append(statistics.mean(tmp))\n",
        "\n",
        "Y_Pred_final=np.array(Y_Pred_final)\n",
        "#print(Y_Pred_final)\n",
        "pearson_score=pearsonr(y_test.to_numpy().reshape(-1,),Y_Pred_final.reshape(-1,))\n",
        "r2_Score=r2_score(y_test,Y_Pred_final)\n",
        "print('Mean Model: ',pearson_score[0],r2_Score)\n"
      ],
      "execution_count": null,
      "outputs": [
        {
          "output_type": "stream",
          "text": [
            "Mean Model:  0.7530293645234387 0.5665843383551448\n"
          ],
          "name": "stdout"
        }
      ]
    },
    {
      "cell_type": "code",
      "metadata": {
        "id": "lspaVsz1cTap"
      },
      "source": [
        "print(x_test.shape)"
      ],
      "execution_count": null,
      "outputs": []
    }
  ]
}